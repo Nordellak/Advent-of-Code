{
 "cells": [
  {
   "cell_type": "markdown",
   "metadata": {},
   "source": [
    "# Day 17\n",
    "Find the description of the problem [here](https://adventofcode.com/2024/day/17)!"
   ]
  },
  {
   "cell_type": "markdown",
   "metadata": {},
   "source": [
    "## Part 1"
   ]
  },
  {
   "cell_type": "markdown",
   "metadata": {},
   "source": [
    "Puzzle input:"
   ]
  },
  {
   "cell_type": "code",
   "execution_count": 1,
   "metadata": {},
   "outputs": [],
   "source": [
    "with open(\"input_files/day_17.txt\") as input_file:\n",
    "    input = input_file.read()"
   ]
  },
  {
   "cell_type": "markdown",
   "metadata": {},
   "source": [
    "Test input:"
   ]
  },
  {
   "cell_type": "code",
   "execution_count": 2,
   "metadata": {},
   "outputs": [],
   "source": [
    "# # Comment this cell to use the puzzle input instead of the test input\n",
    "# input = \"\"\"Register A: 2024\n",
    "# Register B: 0\n",
    "# Register C: 0\n",
    "\n",
    "# Program: 0,3,5,4,3,0\"\"\""
   ]
  },
  {
   "cell_type": "markdown",
   "metadata": {},
   "source": [
    "Parse the input:"
   ]
  },
  {
   "cell_type": "code",
   "execution_count": 3,
   "metadata": {},
   "outputs": [],
   "source": [
    "import re\n",
    "\n",
    "input_split = input.split(\"\\n\")\n",
    "\n",
    "initial_A = int(re.findall(r\"\\d+\",input_split[0])[0])\n",
    "initial_B = int(re.findall(r\"\\d+\",input_split[1])[0])\n",
    "initial_C = int(re.findall(r\"\\d+\",input_split[2])[0])\n",
    "program = list(map(int, re.findall(r\"\\d+\",input_split[4])))"
   ]
  },
  {
   "cell_type": "markdown",
   "metadata": {},
   "source": [
    "Define all the possible operations:"
   ]
  },
  {
   "cell_type": "code",
   "execution_count": 4,
   "metadata": {},
   "outputs": [],
   "source": [
    "# Some helper functions\n",
    "def decimal_to_binary(number):\n",
    "    return bin(number)[2:].zfill(3)\n",
    "\n",
    "def binary_to_decimal(number_str):\n",
    "    bits = list(map(int, list(number_str)))\n",
    "    bits.reverse()\n",
    "    number = 0\n",
    "    for i, bit in enumerate(bits):\n",
    "        number += bit * 2 ** i\n",
    "    return number\n",
    "\n",
    "# Calculate the combo operand\n",
    "def combo(operand):\n",
    "    if operand <= 3:\n",
    "        return operand\n",
    "    elif operand == 4:\n",
    "        return A\n",
    "    elif operand == 5:\n",
    "        return B\n",
    "    elif operand == 6:\n",
    "        return C\n",
    "    else:\n",
    "        print(\"Invalid program\")\n",
    "        return -1\n",
    "\n",
    "# Opcode 0:\n",
    "def adv(operand):\n",
    "    global A\n",
    "    numerator = A\n",
    "    denominator = 2 ** combo(operand)\n",
    "    A = numerator // denominator\n",
    "\n",
    "# Opcode 1:\n",
    "def bxl(operand):\n",
    "    global B\n",
    "    binary_1 = decimal_to_binary(B)\n",
    "    binary_2 = \"\"\n",
    "    for _ in range(len(binary_1) - 3):\n",
    "        binary_2 += \"0\"\n",
    "    binary_2 += decimal_to_binary(operand)\n",
    "\n",
    "    result = \"\"\n",
    "    for bit_1, bit_2 in zip(binary_1, binary_2):\n",
    "        result += \"0\" if bit_1 == bit_2 else \"1\"\n",
    "    \n",
    "    B = binary_to_decimal(result)\n",
    "    \n",
    "\n",
    "# Opcode 2:\n",
    "def bst(operand):\n",
    "    global B\n",
    "    B = combo(operand) % 8\n",
    "\n",
    "# Opcode 3:\n",
    "def jnz(operand):\n",
    "    global i\n",
    "    global skip_increment\n",
    "    if A == 0:\n",
    "        return\n",
    "    else:\n",
    "        i = operand\n",
    "        skip_increment = True\n",
    "\n",
    "# Opcode 4:\n",
    "def bxc(operand):\n",
    "    global B\n",
    "    binary_1 = decimal_to_binary(B)\n",
    "    binary_2 = decimal_to_binary(C)\n",
    "    len_1 = len(binary_1)\n",
    "    len_2 = len(binary_2)\n",
    "    if len_1 > len_2:\n",
    "        binary_2 = \"\"\n",
    "        for _ in range(len_1 - len_2):\n",
    "            binary_2 += \"0\"\n",
    "        binary_2 += decimal_to_binary(C)\n",
    "    elif len_1 < len_2:\n",
    "        binary_1 = \"\"\n",
    "        for _ in range(len_2 - len_1):\n",
    "            binary_1 += \"0\"\n",
    "        binary_1 += decimal_to_binary(B)\n",
    "\n",
    "    result = \"\"\n",
    "    for bit_1, bit_2 in zip(binary_1, binary_2):\n",
    "        result += \"0\" if bit_1 == bit_2 else \"1\"\n",
    "    \n",
    "    B = binary_to_decimal(result)\n",
    "\n",
    "# Opcode 5:\n",
    "def out(operand):\n",
    "    global output\n",
    "    output.append(combo(operand) % 8)\n",
    "\n",
    "# Opcode 6:\n",
    "def bdv(operand):\n",
    "    global B\n",
    "    numerator = A\n",
    "    denominator = 2 ** combo(operand)\n",
    "    B = numerator // denominator\n",
    "\n",
    "# Opcode 7:\n",
    "def cdv(operand):\n",
    "    global C\n",
    "    numerator = A\n",
    "    denominator = 2 ** combo(operand)\n",
    "    C = numerator // denominator"
   ]
  },
  {
   "cell_type": "code",
   "execution_count": 5,
   "metadata": {},
   "outputs": [
    {
     "name": "stdout",
     "output_type": "stream",
     "text": [
      "The output is 2,0,4,2,7,0,1,0,3\n"
     ]
    }
   ],
   "source": [
    "output = []\n",
    "A = initial_A\n",
    "B = initial_B\n",
    "C = initial_C\n",
    "\n",
    "i = 0\n",
    "while i < len(program):\n",
    "    skip_increment = False\n",
    "    opcode = program[i]\n",
    "    operand = program[i + 1]\n",
    "\n",
    "    if opcode == 0:\n",
    "        adv(operand)\n",
    "    elif opcode == 1:\n",
    "        bxl(operand)\n",
    "    elif opcode == 2:\n",
    "        bst(operand)\n",
    "    elif opcode == 3:\n",
    "        jnz(operand)\n",
    "    elif opcode == 4:\n",
    "        bxc(operand)\n",
    "    elif opcode == 5:\n",
    "        out(operand)\n",
    "    elif opcode == 6:\n",
    "        bdv(operand)\n",
    "    elif opcode == 7:\n",
    "        cdv(operand)\n",
    "        \n",
    "    if not skip_increment:\n",
    "        i += 2\n",
    "\n",
    "output_string = \",\".join(list(map(str, output)))\n",
    "print(f\"The output is {output_string}\")"
   ]
  },
  {
   "cell_type": "markdown",
   "metadata": {},
   "source": [
    "## Part 2"
   ]
  },
  {
   "cell_type": "markdown",
   "metadata": {},
   "source": [
    "Brute force doesn't work, as the number is very, very big."
   ]
  },
  {
   "cell_type": "code",
   "execution_count": 6,
   "metadata": {},
   "outputs": [],
   "source": [
    "# running = True\n",
    "# counter = 0\n",
    "# while running:\n",
    "#     print(counter) if counter % 10000 == 0 else None\n",
    "\n",
    "#     output = []\n",
    "#     A = counter\n",
    "#     B = initial_B\n",
    "#     C = initial_C\n",
    "    \n",
    "#     i = 0\n",
    "#     while i < len(program):\n",
    "#         skip_increment = False\n",
    "#         opcode = program[i]\n",
    "#         operand = program[i + 1]\n",
    "\n",
    "#         if opcode == 0:\n",
    "#             adv(operand)\n",
    "#         elif opcode == 1:\n",
    "#             bxl(operand)\n",
    "#         elif opcode == 2:\n",
    "#             bst(operand)\n",
    "#         elif opcode == 3:\n",
    "#             jnz(operand)\n",
    "#         elif opcode == 4:\n",
    "#             bxc(operand)\n",
    "#         elif opcode == 5:\n",
    "#             out(operand)\n",
    "#         elif opcode == 6:\n",
    "#             bdv(operand)\n",
    "#         elif opcode == 7:\n",
    "#             cdv(operand)\n",
    "            \n",
    "#         for index, value in enumerate(output):\n",
    "#             if output[index] != program[index]:\n",
    "#                 break\n",
    "\n",
    "#         if not skip_increment:\n",
    "#             i += 2\n",
    "    \n",
    "#     if output == program:\n",
    "#         break\n",
    "\n",
    "#     counter += 1\n",
    "\n",
    "# print(f\"The lowest value of A to cause the program to output a copy of itself is {counter}.\")"
   ]
  },
  {
   "cell_type": "markdown",
   "metadata": {},
   "source": [
    "This method was reached after many many observations to the behaviour of changing the A value:"
   ]
  },
  {
   "cell_type": "code",
   "execution_count": 7,
   "metadata": {},
   "outputs": [
    {
     "name": "stdout",
     "output_type": "stream",
     "text": [
      "The lowest value of A to cause the program to output a copy of itself is 265601188299675.\n"
     ]
    }
   ],
   "source": [
    "running = True\n",
    "\n",
    "numbers = [0, 0, 0, 0, 0, 0, 0, 0, 0, 0, 0, 0, 0, 0, 0, 1]  # The n-th number represents n * 8 ** pos, where n is the value and pos is the index\n",
    "\n",
    "# Iterate from the biggest number, which changes the right-most output value\n",
    "position = len(numbers) - 1\n",
    "while position >= 0:\n",
    "    output = []\n",
    "    A = 0\n",
    "    for index, number in enumerate(numbers):\n",
    "        A += number * 8 ** index\n",
    "    B = initial_B\n",
    "    C = initial_C\n",
    "\n",
    "    i = 0\n",
    "    while i < len(program):\n",
    "        skip_increment = False\n",
    "        opcode = program[i]\n",
    "        operand = program[i + 1]\n",
    "\n",
    "        if opcode == 0:\n",
    "            adv(operand)\n",
    "        elif opcode == 1:\n",
    "            bxl(operand)\n",
    "        elif opcode == 2:\n",
    "            bst(operand)\n",
    "        elif opcode == 3:\n",
    "            jnz(operand)\n",
    "        elif opcode == 4:\n",
    "            bxc(operand)\n",
    "        elif opcode == 5:\n",
    "            out(operand)\n",
    "        elif opcode == 6:\n",
    "            bdv(operand)\n",
    "        elif opcode == 7:\n",
    "            cdv(operand)\n",
    "\n",
    "        if not skip_increment:\n",
    "            i += 2\n",
    "\n",
    "    if output[position] == program[position]:\n",
    "        # If the value coincides between the output and the program, go to the next number\n",
    "        position -= 1\n",
    "    elif numbers[position] >= 7 and position < len(numbers) - 1:\n",
    "        # If it doesn't and we reach 7, go back to the previous number\n",
    "        numbers[position] = 0\n",
    "        position += 1\n",
    "        numbers[position] += 1\n",
    "    else:\n",
    "        # If it doesn't but it's not 7 yet, just increase that number\n",
    "        numbers[position] += 1\n",
    "\n",
    "# Reconstruct A from the numbers\n",
    "A = 0\n",
    "for index, number in enumerate(numbers):\n",
    "    A += number * 8 ** index\n",
    "print(f\"The lowest value of A to cause the program to output a copy of itself is {A}.\")\n"
   ]
  }
 ],
 "metadata": {
  "kernelspec": {
   "display_name": "data_science",
   "language": "python",
   "name": "python3"
  },
  "language_info": {
   "codemirror_mode": {
    "name": "ipython",
    "version": 3
   },
   "file_extension": ".py",
   "mimetype": "text/x-python",
   "name": "python",
   "nbconvert_exporter": "python",
   "pygments_lexer": "ipython3",
   "version": "3.12.3"
  }
 },
 "nbformat": 4,
 "nbformat_minor": 2
}
