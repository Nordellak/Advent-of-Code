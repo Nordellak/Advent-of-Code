{
 "cells": [
  {
   "cell_type": "markdown",
   "metadata": {},
   "source": [
    "# Day 25\n",
    "Find the description of the problem [here](https://adventofcode.com/2024/day/25)!"
   ]
  },
  {
   "cell_type": "markdown",
   "metadata": {},
   "source": [
    "## Part 1"
   ]
  },
  {
   "cell_type": "markdown",
   "metadata": {},
   "source": [
    "Puzzle input:"
   ]
  },
  {
   "cell_type": "code",
   "execution_count": 22,
   "metadata": {},
   "outputs": [],
   "source": [
    "with open(\"input_files/day_25.txt\") as input_file:\n",
    "    input = input_file.read()"
   ]
  },
  {
   "cell_type": "markdown",
   "metadata": {},
   "source": [
    "Test input:"
   ]
  },
  {
   "cell_type": "code",
   "execution_count": 23,
   "metadata": {},
   "outputs": [],
   "source": [
    "# # Comment this cell to use the puzzle input instead of the test input\n",
    "# input = \"\"\"#####\n",
    "# .####\n",
    "# .####\n",
    "# .####\n",
    "# .#.#.\n",
    "# .#...\n",
    "# .....\n",
    "\n",
    "# #####\n",
    "# ##.##\n",
    "# .#.##\n",
    "# ...##\n",
    "# ...#.\n",
    "# ...#.\n",
    "# .....\n",
    "\n",
    "# .....\n",
    "# #....\n",
    "# #....\n",
    "# #...#\n",
    "# #.#.#\n",
    "# #.###\n",
    "# #####\n",
    "\n",
    "# .....\n",
    "# .....\n",
    "# #.#..\n",
    "# ###..\n",
    "# ###.#\n",
    "# ###.#\n",
    "# #####\n",
    "\n",
    "# .....\n",
    "# .....\n",
    "# .....\n",
    "# #....\n",
    "# #.#..\n",
    "# #.#.#\n",
    "# #####\"\"\""
   ]
  },
  {
   "cell_type": "markdown",
   "metadata": {},
   "source": [
    "Parse the input:"
   ]
  },
  {
   "cell_type": "code",
   "execution_count": 24,
   "metadata": {},
   "outputs": [],
   "source": [
    "keys = []\n",
    "locks = []\n",
    "for schematic in input.split(\"\\n\\n\"):\n",
    "    schematic_lines = schematic.split(\"\\n\")\n",
    "    if schematic_lines[0] == \"#####\":\n",
    "        lock = [0, 0, 0, 0, 0]\n",
    "        for line in schematic_lines[1:-1]:\n",
    "            for i, val in enumerate(line):\n",
    "                if val == \"#\":\n",
    "                    lock[i] += 1\n",
    "        locks.append(lock)\n",
    "    elif schematic_lines[0] == \".....\":\n",
    "        key = [0, 0, 0, 0, 0]\n",
    "        for line in schematic_lines[1:-1]:\n",
    "            for i, val in enumerate(line):\n",
    "                if val == \"#\":\n",
    "                    key[i] += 1\n",
    "        keys.append(key)\n",
    "    else:\n",
    "        print(\"Not a key nor a lock!\")"
   ]
  },
  {
   "cell_type": "code",
   "execution_count": 26,
   "metadata": {},
   "outputs": [
    {
     "name": "stdout",
     "output_type": "stream",
     "text": [
      "There are 3021 unique lock/key pairs that fit.\n"
     ]
    }
   ],
   "source": [
    "from itertools import product\n",
    "\n",
    "pairs_fit = 0\n",
    "for lock, key in product(locks, keys):\n",
    "    match = [0, 0, 0, 0, 0]\n",
    "    for i, (lock_val, key_val) in enumerate(zip(lock, key)):\n",
    "        match[i] = lock_val + key_val\n",
    "    if not any(val > 5 for val in match):\n",
    "        pairs_fit += 1\n",
    "\n",
    "print(f\"There are {pairs_fit} unique lock/key pairs that fit.\")"
   ]
  }
 ],
 "metadata": {
  "kernelspec": {
   "display_name": "data_science",
   "language": "python",
   "name": "python3"
  },
  "language_info": {
   "codemirror_mode": {
    "name": "ipython",
    "version": 3
   },
   "file_extension": ".py",
   "mimetype": "text/x-python",
   "name": "python",
   "nbconvert_exporter": "python",
   "pygments_lexer": "ipython3",
   "version": "3.12.3"
  }
 },
 "nbformat": 4,
 "nbformat_minor": 2
}
