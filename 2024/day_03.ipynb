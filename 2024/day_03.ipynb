{
 "cells": [
  {
   "cell_type": "markdown",
   "metadata": {},
   "source": [
    "# Day 3\n",
    "Find the description of the problem [here](https://adventofcode.com/2024/day/3)!"
   ]
  },
  {
   "cell_type": "markdown",
   "metadata": {},
   "source": [
    "## Part 1"
   ]
  },
  {
   "cell_type": "markdown",
   "metadata": {},
   "source": [
    "Puzzle input:"
   ]
  },
  {
   "cell_type": "code",
   "execution_count": 191,
   "metadata": {},
   "outputs": [],
   "source": [
    "with open(\"input_files/day_03.txt\") as input_file:\n",
    "    input = input_file.read()"
   ]
  },
  {
   "cell_type": "markdown",
   "metadata": {},
   "source": [
    "Test input:"
   ]
  },
  {
   "cell_type": "code",
   "execution_count": 192,
   "metadata": {},
   "outputs": [],
   "source": [
    "# # Comment this cell to use the puzzle input instead of the test input\n",
    "# input = \"xmul(2,4)&mul[3,7]!^don't()_mul(5,5)+mul(32,64](mul(11,8)undo()?mul(8,5))\""
   ]
  },
  {
   "cell_type": "markdown",
   "metadata": {},
   "source": [
    "This problem could be easily solved using RegEx, but I want to achieve it with code!"
   ]
  },
  {
   "cell_type": "code",
   "execution_count": 196,
   "metadata": {},
   "outputs": [
    {
     "name": "stdout",
     "output_type": "stream",
     "text": [
      "The result of the instruction is: 184576302\n"
     ]
    }
   ],
   "source": [
    "remaining_input = input\n",
    "result = 0\n",
    "while len(remaining_input) > 0:\n",
    "    # Find the right pattern\n",
    "    match_pos = remaining_input.find(\"mul(\")\n",
    "    if match_pos < 0:\n",
    "        break\n",
    "    remaining_input = remaining_input[match_pos + 4:]\n",
    "\n",
    "    # Check if there is a comma after 1-3 numbers and get first number\n",
    "    next_comma = remaining_input.find(\",\")\n",
    "    first_number = None\n",
    "    if next_comma < 0:\n",
    "        break\n",
    "    elif next_comma <= 3:\n",
    "        try:\n",
    "            first_number = int(remaining_input[:next_comma])\n",
    "        except ValueError:\n",
    "            pass\n",
    "        remaining_input = remaining_input[next_comma + 1:]\n",
    "\n",
    "    # Check if there is a closing parenthesis after 1-3 numbers and get second number\n",
    "    second_number = None\n",
    "    if first_number:\n",
    "        next_closing_parenthesis = remaining_input.find(\")\")\n",
    "        if next_closing_parenthesis < 0:\n",
    "            break\n",
    "        elif next_closing_parenthesis <= 3:\n",
    "            try:\n",
    "                second_number = int(remaining_input[:next_closing_parenthesis])\n",
    "            except ValueError:\n",
    "                pass\n",
    "\n",
    "    if first_number is not None and second_number is not None:\n",
    "        result += first_number * second_number\n",
    "        \n",
    "print(f\"The result of the instruction is: {result}\")"
   ]
  },
  {
   "cell_type": "markdown",
   "metadata": {},
   "source": [
    "## Part 2"
   ]
  },
  {
   "cell_type": "markdown",
   "metadata": {},
   "source": [
    "Start from copy-paste of the previous' part code because I'm too lazy to refactor it :)"
   ]
  },
  {
   "cell_type": "code",
   "execution_count": 195,
   "metadata": {},
   "outputs": [
    {
     "name": "stdout",
     "output_type": "stream",
     "text": [
      "The result of the instruction after enabling and disabling is: 118173507\n"
     ]
    }
   ],
   "source": [
    "remaining_input = input\n",
    "result = 0\n",
    "enabled = True\n",
    "while len(remaining_input) > 0:\n",
    "    # Find the right pattern\n",
    "    next_do = remaining_input.find(\"do()\")\n",
    "    next_dont = remaining_input.find(\"don't()\")\n",
    "    match_pos = remaining_input.find(\"mul(\")\n",
    "\n",
    "    # Enable or disable machine\n",
    "    if next_do > 0 and next_do < match_pos and (next_do < next_dont or next_dont < 0):\n",
    "        enabled = True\n",
    "        remaining_input = remaining_input[next_do + 4:]\n",
    "        continue\n",
    "    if next_dont > 0 and next_dont < match_pos and (next_dont < next_do or next_do < 0):\n",
    "        enabled = False\n",
    "        remaining_input = remaining_input[next_dont + 7:]\n",
    "        continue\n",
    "\n",
    "    if match_pos < 0:\n",
    "        break\n",
    "    remaining_input = remaining_input[match_pos + 4:]\n",
    "\n",
    "    if enabled:\n",
    "        # Check if there is a comma after 1-3 numbers and get first number\n",
    "        next_comma = remaining_input.find(\",\")\n",
    "        first_number = None\n",
    "        if next_comma < 0:\n",
    "            break\n",
    "        elif next_comma <= 3:\n",
    "            try:\n",
    "                first_number = int(remaining_input[:next_comma])\n",
    "            except ValueError:\n",
    "                pass\n",
    "            remaining_input = remaining_input[next_comma + 1:]\n",
    "\n",
    "        # Check if there is a closing parenthesis after 1-3 numbers and get second number\n",
    "        second_number = None\n",
    "        if first_number:\n",
    "            next_closing_parenthesis = remaining_input.find(\")\")\n",
    "            if next_closing_parenthesis < 0:\n",
    "                break\n",
    "            elif next_closing_parenthesis <= 3:\n",
    "                try:\n",
    "                    second_number = int(remaining_input[:next_closing_parenthesis])\n",
    "                except ValueError:\n",
    "                    pass\n",
    "\n",
    "        if first_number is not None and second_number is not None:\n",
    "            result += first_number * second_number\n",
    "            \n",
    "print(f\"The result of the instruction after enabling and disabling is: {result}\")"
   ]
  }
 ],
 "metadata": {
  "kernelspec": {
   "display_name": "data_science",
   "language": "python",
   "name": "python3"
  },
  "language_info": {
   "codemirror_mode": {
    "name": "ipython",
    "version": 3
   },
   "file_extension": ".py",
   "mimetype": "text/x-python",
   "name": "python",
   "nbconvert_exporter": "python",
   "pygments_lexer": "ipython3",
   "version": "3.12.3"
  }
 },
 "nbformat": 4,
 "nbformat_minor": 2
}
