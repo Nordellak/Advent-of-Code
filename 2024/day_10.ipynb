{
 "cells": [
  {
   "cell_type": "markdown",
   "metadata": {},
   "source": [
    "# Day 10\n",
    "Find the description of the problem [here](https://adventofcode.com/2024/day/10)!"
   ]
  },
  {
   "cell_type": "markdown",
   "metadata": {},
   "source": [
    "## Part 1"
   ]
  },
  {
   "cell_type": "markdown",
   "metadata": {},
   "source": [
    "Puzzle input:"
   ]
  },
  {
   "cell_type": "code",
   "execution_count": 28,
   "metadata": {},
   "outputs": [],
   "source": [
    "with open(\"input_files/day_10.txt\") as input_file:\n",
    "    input = input_file.read()"
   ]
  },
  {
   "cell_type": "markdown",
   "metadata": {},
   "source": [
    "Test input:"
   ]
  },
  {
   "cell_type": "code",
   "execution_count": 29,
   "metadata": {},
   "outputs": [],
   "source": [
    "# # Comment this cell to use the puzzle input instead of the test input\n",
    "# input = \"\"\"89010123\n",
    "# 78121874\n",
    "# 87430965\n",
    "# 96549874\n",
    "# 45678903\n",
    "# 32019012\n",
    "# 01329801\n",
    "# 10456732\"\"\""
   ]
  },
  {
   "cell_type": "markdown",
   "metadata": {},
   "source": [
    "Parse the input:"
   ]
  },
  {
   "cell_type": "code",
   "execution_count": 30,
   "metadata": {},
   "outputs": [],
   "source": [
    "tolopogical_map = [list(map(int, list(line))) for line in input.split(\"\\n\")]"
   ]
  },
  {
   "cell_type": "markdown",
   "metadata": {},
   "source": [
    "Go through all trails, creating copies when the path diverges, to account for all total trails:"
   ]
  },
  {
   "cell_type": "code",
   "execution_count": 31,
   "metadata": {},
   "outputs": [
    {
     "name": "stdout",
     "output_type": "stream",
     "text": [
      "The total score is 468\n"
     ]
    }
   ],
   "source": [
    "map_width = len(tolopogical_map[0])\n",
    "map_height = len(tolopogical_map)\n",
    "\n",
    "trails = []\n",
    "# Start creating a list of all trails, just with the first step for now\n",
    "for j, line in enumerate(tolopogical_map):\n",
    "    for i, height in enumerate(line):\n",
    "        if height == 0:\n",
    "            trails.append([(i, j, height)])\n",
    "\n",
    "# Iterate through all the trails (new trails get added during the iterations)\n",
    "for trail in trails:\n",
    "    for step in trail: #\n",
    "        # Start iterating at the last step on the trail (new steps get added to the trail during the iterations)\n",
    "        if step != trail[-1]:\n",
    "            continue\n",
    "\n",
    "        x, y, height = step\n",
    "\n",
    "        # Skip this step if the trail has already ended\n",
    "        if height == 9:\n",
    "            continue\n",
    "        \n",
    "        # Get all possible next steps\n",
    "        next_steps = [(x - 1, y, tolopogical_map[y][x - 1]) if x > 0 else None,\n",
    "                      (x + 1, y, tolopogical_map[y][x + 1]) if x < map_width - 1 else None,\n",
    "                      (x, y - 1, tolopogical_map[y - 1][x]) if y > 0 else None,\n",
    "                      (x, y + 1, tolopogical_map[y + 1][x]) if y < map_height - 1 else None]\n",
    "\n",
    "        # The first time a path continuation is found, add the next step to the current trail, after that, create a copy of the trail and add the step there\n",
    "        trail_until_now = trail.copy()\n",
    "        step_already_added = False\n",
    "        for next_step in next_steps:\n",
    "            if next_step and next_step[2] == height + 1:\n",
    "                if not step_already_added:\n",
    "                    trail.append(next_step)\n",
    "                    step_already_added = True\n",
    "                else:\n",
    "                    new_trail = trail_until_now.copy()\n",
    "                    new_trail.append(next_step)\n",
    "                    trails.append(new_trail)\n",
    "\n",
    "# Get all complete trails and remove trails that start and end at the same places\n",
    "nines = []\n",
    "for trail in trails:\n",
    "    if len(trail) == 10:\n",
    "        nines.append((trail[0], trail[-1]))\n",
    "nines = set(nines)\n",
    "score = len(nines)\n",
    "print(f\"The total score is {score}\")"
   ]
  },
  {
   "cell_type": "markdown",
   "metadata": {},
   "source": [
    "## Part 2"
   ]
  },
  {
   "cell_type": "markdown",
   "metadata": {},
   "source": [
    "Due to how part 1 was implemented, this part was trivial:"
   ]
  },
  {
   "cell_type": "code",
   "execution_count": 32,
   "metadata": {},
   "outputs": [
    {
     "name": "stdout",
     "output_type": "stream",
     "text": [
      "The total rating is 966\n"
     ]
    }
   ],
   "source": [
    "# Count all beginnings of complete trails\n",
    "zeros = []\n",
    "for trail in trails:\n",
    "    if len(trail) == 10:\n",
    "        zeros.append(trail[0])\n",
    "rating = len(zeros)\n",
    "print(f\"The total rating is {rating}\")"
   ]
  }
 ],
 "metadata": {
  "kernelspec": {
   "display_name": "data_science",
   "language": "python",
   "name": "python3"
  },
  "language_info": {
   "codemirror_mode": {
    "name": "ipython",
    "version": 3
   },
   "file_extension": ".py",
   "mimetype": "text/x-python",
   "name": "python",
   "nbconvert_exporter": "python",
   "pygments_lexer": "ipython3",
   "version": "3.12.3"
  }
 },
 "nbformat": 4,
 "nbformat_minor": 2
}
