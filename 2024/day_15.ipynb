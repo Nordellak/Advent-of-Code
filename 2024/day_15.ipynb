{
 "cells": [
  {
   "cell_type": "markdown",
   "metadata": {},
   "source": [
    "# Day 15\n",
    "Find the description of the problem [here](https://adventofcode.com/2024/day/15)!"
   ]
  },
  {
   "cell_type": "markdown",
   "metadata": {},
   "source": [
    "## Part 1"
   ]
  },
  {
   "cell_type": "markdown",
   "metadata": {},
   "source": [
    "Puzzle input:"
   ]
  },
  {
   "cell_type": "code",
   "execution_count": 393,
   "metadata": {},
   "outputs": [],
   "source": [
    "with open(\"input_files/day_15.txt\") as input_file:\n",
    "    input = input_file.read()"
   ]
  },
  {
   "cell_type": "markdown",
   "metadata": {},
   "source": [
    "Test input:"
   ]
  },
  {
   "cell_type": "code",
   "execution_count": 394,
   "metadata": {},
   "outputs": [],
   "source": [
    "# # Comment this cell to use the puzzle input instead of the test input\n",
    "# input = \"\"\"##########\n",
    "# #..O..O.O#\n",
    "# #......O.#\n",
    "# #.OO..O.O#\n",
    "# #..O@..O.#\n",
    "# #O#..O...#\n",
    "# #O..O..O.#\n",
    "# #.OO.O.OO#\n",
    "# #....O...#\n",
    "# ##########\n",
    "\n",
    "# <vv>^<v^>v>^vv^v>v<>v^v<v<^vv<<<^><<><>>v<vvv<>^v^>^<<<><<v<<<v^vv^v>^\n",
    "# vvv<<^>^v^^><<>>><>^<<><^vv^^<>vvv<>><^^v>^>vv<>v<<<<v<^v>^<^^>>>^<v<v\n",
    "# ><>vv>v^v^<>><>>>><^^>vv>v<^^^>>v^v^<^^>v^^>v^<^v>v<>>v^v^<v>v^^<^^vv<\n",
    "# <<v<^>>^^^^>>>v^<>vvv^><v<<<>^^^vv^<vvv>^>v<^^^^v<>^>vvvv><>>v^<<^^^^^\n",
    "# ^><^><>>><>^^<<^^v>>><^<v>^<vv>>v>>>^v><>^v><<<<v>>v<v<v>vvv>^<><<>^><\n",
    "# ^>><>^v<><^vvv<^^<><v<<<<<><^v<<<><<<^^<v<^^^><^>>^<v^><<<^>>^v<v^v<v^\n",
    "# >^>>^v>vv>^<<^v<>><<><<v<<v><>v<^vv<<<>^^v^>^^>>><<^v>>v^v><^^>>^<>vv^\n",
    "# <><^^>^^^<><vvvvv^v<v<<>^v<v>v<<^><<><<><<<^^<<<^<<>><<><^^^>^^<>^>v<>\n",
    "# ^^>vv<^v^v<vv>^<><v<^v>^^^>>>^^vvv^>vvv<>>>^<^>>>>>^<<^v>^vvv<>^<><<v>\n",
    "# v^^>>><<^^<>>^v^<v^vv<>v^<<>^<^v^v><^<<<><<^<v><v<>vv>>v><v^<vv<>v^<<^\"\"\""
   ]
  },
  {
   "cell_type": "markdown",
   "metadata": {},
   "source": [
    "Parse the input:"
   ]
  },
  {
   "cell_type": "code",
   "execution_count": 395,
   "metadata": {},
   "outputs": [],
   "source": [
    "warehouse_raw, movements_raw = input.split(\"\\n\\n\")\n",
    "warehouse = [list(line) for line in warehouse_raw.split(\"\\n\")]\n",
    "warehouse_width = len(warehouse[0])\n",
    "warehouse_height = len(warehouse)\n",
    "movements_raw = movements_raw.split(\"\\n\")\n",
    "movements_single_line = \"\"\n",
    "for line in movements_raw:\n",
    "    movements_single_line += line\n",
    "movements = list(movements_single_line)"
   ]
  },
  {
   "cell_type": "markdown",
   "metadata": {},
   "source": [
    "Separate the robot, walls and boxes into their own lists:"
   ]
  },
  {
   "cell_type": "code",
   "execution_count": 396,
   "metadata": {},
   "outputs": [],
   "source": [
    "robot_position = [0, 0]\n",
    "walls = []\n",
    "boxes = []\n",
    "for y, line in enumerate(warehouse):\n",
    "    for x, entity in enumerate(line):\n",
    "        if entity == \"@\":\n",
    "            robot_position = [x, y]\n",
    "        elif entity == \"O\":\n",
    "            boxes.append([x, y])\n",
    "        elif entity == \"#\":\n",
    "            walls.append([x, y])"
   ]
  },
  {
   "cell_type": "markdown",
   "metadata": {},
   "source": [
    "The following function moves a given element (be it robot or box), and recursively makes the following box move, while checking at each step if it can move or not depending on the next element."
   ]
  },
  {
   "cell_type": "code",
   "execution_count": 397,
   "metadata": {},
   "outputs": [],
   "source": [
    "def move(position, movement):\n",
    "    if movement == \"<\":\n",
    "        dx, dy = (-1, 0)\n",
    "    elif movement == \">\":\n",
    "        dx, dy = (1, 0)\n",
    "    elif movement == \"^\":\n",
    "        dx, dy = (0, -1)\n",
    "    elif movement == \"v\":\n",
    "        dx, dy = (0, 1)\n",
    "\n",
    "    x, y = position\n",
    "    new_pos = [x + dx, y + dy]\n",
    "    should_move = False\n",
    "    if new_pos in walls:\n",
    "        return False\n",
    "    elif new_pos in boxes:\n",
    "        index = boxes.index(new_pos)\n",
    "        should_move = move(boxes[index], movement)\n",
    "        if should_move:\n",
    "            position[0] += dx\n",
    "            position[1] += dy\n",
    "        return should_move\n",
    "    else:\n",
    "        position[0] += dx\n",
    "        position[1] += dy\n",
    "        return True"
   ]
  },
  {
   "cell_type": "markdown",
   "metadata": {},
   "source": [
    "Iterate through all the movements:"
   ]
  },
  {
   "cell_type": "code",
   "execution_count": 398,
   "metadata": {},
   "outputs": [],
   "source": [
    "for movement in movements:\n",
    "    move(robot_position, movement)   "
   ]
  },
  {
   "cell_type": "markdown",
   "metadata": {},
   "source": [
    "Get the coordinates:"
   ]
  },
  {
   "cell_type": "code",
   "execution_count": 399,
   "metadata": {},
   "outputs": [
    {
     "name": "stdout",
     "output_type": "stream",
     "text": [
      "The sum of all boxes' GPS coordinates is 1517819.\n"
     ]
    }
   ],
   "source": [
    "gps_coordinates_sum = 0\n",
    "for box in boxes:\n",
    "    x, y = box\n",
    "    gps_coordinates_sum += x + 100 * y\n",
    "\n",
    "print(f\"The sum of all boxes' GPS coordinates is {gps_coordinates_sum}.\")"
   ]
  },
  {
   "cell_type": "markdown",
   "metadata": {},
   "source": [
    "And in the end draw the current state of the warehouse (not necessary to get the coordinates):"
   ]
  },
  {
   "cell_type": "code",
   "execution_count": 400,
   "metadata": {},
   "outputs": [],
   "source": [
    "warehouse_now = [[\".\" for _ in range(warehouse_width)] for _ in range(warehouse_height)]\n",
    "for wall in walls:\n",
    "    x, y = wall\n",
    "    warehouse_now[y][x] = \"#\"\n",
    "for box in boxes:\n",
    "    x, y = box\n",
    "    warehouse_now[y][x] = \"O\"\n",
    "x, y = robot_position\n",
    "warehouse_now[y][x] = \"@\"\n",
    "\n",
    "# for line in warehouse_now:\n",
    "#     print(\"\".join(line))"
   ]
  },
  {
   "cell_type": "markdown",
   "metadata": {},
   "source": [
    "## Part 2"
   ]
  },
  {
   "cell_type": "markdown",
   "metadata": {},
   "source": [
    "Transform the coordinates to double the width:"
   ]
  },
  {
   "cell_type": "code",
   "execution_count": 401,
   "metadata": {},
   "outputs": [],
   "source": [
    "robot_position = [0, 0]\n",
    "walls = []\n",
    "boxes = []\n",
    "warehouse_width *= 2\n",
    "for y, line in enumerate(warehouse):\n",
    "    for x, entity in enumerate(line):\n",
    "        if entity == \"@\":\n",
    "            robot_position = [2 * x, y]\n",
    "        elif entity == \"O\":\n",
    "            boxes.append([2 * x, y])\n",
    "        elif entity == \"#\":\n",
    "            walls.append([2 * x, y])\n",
    "            walls.append([2 * x + 1, y])"
   ]
  },
  {
   "cell_type": "markdown",
   "metadata": {},
   "source": [
    "These two functions are the cursed way I ended up with:"
   ]
  },
  {
   "cell_type": "code",
   "execution_count": 402,
   "metadata": {},
   "outputs": [],
   "source": [
    "def can_move(position, movement):\n",
    "    x, y = position\n",
    "    if movement == \"^\":\n",
    "        dx, dy = (0, -1)\n",
    "    elif movement == \"v\":\n",
    "        dx, dy = (0, 1)\n",
    "\n",
    "    if [x + dx, y + dy] in walls or [x + dx + 1, y + dy] in walls:\n",
    "        return False\n",
    "    elif [x + dx - 1, y + dy] in boxes and [x + dx + 1, y + dy] in boxes:\n",
    "        index_1 = boxes.index([x + dx - 1, y + dy])\n",
    "        index_2 = boxes.index([x + dx + 1, y + dy])\n",
    "        would_move = can_move(boxes[index_1], movement) and can_move(boxes[index_2], movement)\n",
    "        return would_move\n",
    "    elif [x + dx - 1, y + dy] in boxes:\n",
    "        index = boxes.index([x + dx - 1, y + dy])\n",
    "        would_move = can_move(boxes[index], movement)\n",
    "        return would_move\n",
    "    elif [x + dx, y + dy] in boxes:\n",
    "        index = boxes.index([x + dx, y + dy])\n",
    "        would_move = can_move(boxes[index], movement)\n",
    "        return would_move\n",
    "    elif [x + dx + 1, y + dy] in boxes:\n",
    "        index = boxes.index([x + dx + 1, y + dy])\n",
    "        would_move = can_move(boxes[index], movement)\n",
    "        return would_move\n",
    "    else:\n",
    "        return True"
   ]
  },
  {
   "cell_type": "code",
   "execution_count": 403,
   "metadata": {},
   "outputs": [],
   "source": [
    "def move_double_width(position, movement, robot=True):\n",
    "    x, y = position\n",
    "    should_move = False\n",
    "\n",
    "    if movement == \"<\":\n",
    "        # When moving to the left, boxes are one distance further\n",
    "        dx, dy = (-1, 0)\n",
    "        if [x + dx, y + dy] in walls:\n",
    "            return False\n",
    "        elif [x + dx - 1, y + dy] in boxes:\n",
    "            index = boxes.index([x + dx - 1, y + dy])\n",
    "            should_move = move_double_width(boxes[index], movement, robot=False)\n",
    "            if should_move:\n",
    "                position[0] += dx\n",
    "                position[1] += dy\n",
    "            return should_move\n",
    "        else:\n",
    "            position[0] += dx\n",
    "            position[1] += dy\n",
    "            return True\n",
    "    elif movement == \">\":\n",
    "        # When moving to the right, there are two options. If the robot moves, since it's only one tile wide, it's a normal check\n",
    "        # When the moving item is a box, it needs to check one further to the right to account for its own width\n",
    "        dx, dy = (1, 0)\n",
    "        if robot:\n",
    "            if [x + dx, y + dy] in walls:\n",
    "                return False\n",
    "            elif [x + dx, y + dy] in boxes:\n",
    "                index = boxes.index([x + dx, y + dy])\n",
    "                should_move = move_double_width(boxes[index], movement, robot=False)\n",
    "                if should_move:\n",
    "                    position[0] += dx\n",
    "                    position[1] += dy\n",
    "                return should_move\n",
    "            else:\n",
    "                position[0] += dx\n",
    "                position[1] += dy\n",
    "                return True\n",
    "        else:\n",
    "            if [x + dx + 1, y + dy] in walls:\n",
    "                return False\n",
    "            elif [x + dx + 1, y + dy] in boxes:\n",
    "                index = boxes.index([x + dx + 1, y + dy])\n",
    "                should_move = move_double_width(boxes[index], movement, robot=False)\n",
    "                if should_move:\n",
    "                    position[0] += dx\n",
    "                    position[1] += dy\n",
    "                return should_move\n",
    "            else:\n",
    "                position[0] += dx\n",
    "                position[1] += dy\n",
    "                return True\n",
    "    elif movement == \"^\":\n",
    "        dx, dy = (0, -1)\n",
    "    elif movement == \"v\":\n",
    "        dx, dy = (0, 1)\n",
    "\n",
    "    # Moving up or down is the same, just with a different direction\n",
    "    if robot:\n",
    "        # If the robot is the one moving, it needs to check for boxes one to the left as well (when it hits the right side of the box)\n",
    "        if [x + dx, y + dy] in walls:\n",
    "            return False\n",
    "        elif [x + dx, y + dy] in boxes:\n",
    "            index = boxes.index([x + dx, y + dy])\n",
    "            should_move = move_double_width(boxes[index], movement, robot=False)\n",
    "            if should_move:\n",
    "                position[0] += dx\n",
    "                position[1] += dy\n",
    "            return should_move\n",
    "        elif [x + dx - 1, y + dy] in boxes:\n",
    "            index = boxes.index([x + dx - 1, y + dy])\n",
    "            should_move = move_double_width(boxes[index], movement, robot=False)\n",
    "            if should_move:\n",
    "                position[0] += dx\n",
    "                position[1] += dy\n",
    "            return should_move\n",
    "        else:\n",
    "            position[0] += dx\n",
    "            position[1] += dy\n",
    "            return True\n",
    "    else:\n",
    "        # If it's a box that is moving, it becomes hell\n",
    "        if [x + dx, y + dy] in walls or [x + dx + 1, y + dy] in walls:\n",
    "            return False\n",
    "        elif [x + dx - 1, y + dy] in boxes and [x + dx + 1, y + dy] in boxes:\n",
    "            # In the event that the box touches two boxes, both need to be checked for moveability before moving any of them\n",
    "            # (hence the can_move function, which does the checking without the moving)\n",
    "            index_1 = boxes.index([x + dx - 1, y + dy])\n",
    "            index_2 = boxes.index([x + dx + 1, y + dy])\n",
    "            should_move = can_move(boxes[index_1], movement) and can_move(boxes[index_2], movement)\n",
    "            if should_move:\n",
    "                move_double_width(boxes[index_1], movement, robot=False)\n",
    "                move_double_width(boxes[index_2], movement, robot=False)\n",
    "                position[0] += dx\n",
    "                position[1] += dy\n",
    "            return should_move\n",
    "        elif [x + dx - 1, y + dy] in boxes:\n",
    "            # Checking for the box misaligned to the left\n",
    "            index = boxes.index([x + dx - 1, y + dy])\n",
    "            should_move = move_double_width(boxes[index], movement, robot=False)\n",
    "            if should_move:\n",
    "                position[0] += dx\n",
    "                position[1] += dy\n",
    "            return should_move\n",
    "        elif [x + dx, y + dy] in boxes:\n",
    "            # Checking for the box just above/below\n",
    "            index = boxes.index([x + dx, y + dy])\n",
    "            should_move = move_double_width(boxes[index], movement, robot=False)\n",
    "            if should_move:\n",
    "                position[0] += dx\n",
    "                position[1] += dy\n",
    "            return should_move\n",
    "        elif [x + dx + 1, y + dy] in boxes:\n",
    "            # Checking for the box misaligned to the right\n",
    "            index = boxes.index([x + dx + 1, y + dy])\n",
    "            should_move = move_double_width(boxes[index], movement, robot=False)\n",
    "            if should_move:\n",
    "                position[0] += dx\n",
    "                position[1] += dy\n",
    "            return should_move\n",
    "        else:\n",
    "            position[0] += dx\n",
    "            position[1] += dy\n",
    "            return True"
   ]
  },
  {
   "cell_type": "markdown",
   "metadata": {},
   "source": [
    "Iterate through all the movements:"
   ]
  },
  {
   "cell_type": "code",
   "execution_count": 404,
   "metadata": {},
   "outputs": [],
   "source": [
    "for movement in movements:\n",
    "    move_double_width(robot_position, movement)"
   ]
  },
  {
   "cell_type": "markdown",
   "metadata": {},
   "source": [
    "Get the coordinates:"
   ]
  },
  {
   "cell_type": "code",
   "execution_count": 405,
   "metadata": {},
   "outputs": [
    {
     "name": "stdout",
     "output_type": "stream",
     "text": [
      "The sum of all boxes' GPS coordinates is 1538862.\n"
     ]
    }
   ],
   "source": [
    "gps_coordinates_sum = 0\n",
    "for box in boxes:\n",
    "    x, y = box\n",
    "    gps_coordinates_sum += x + 100 * y\n",
    "\n",
    "print(f\"The sum of all boxes' GPS coordinates is {gps_coordinates_sum}.\")"
   ]
  },
  {
   "cell_type": "markdown",
   "metadata": {},
   "source": [
    "Draw the double width warehouse:"
   ]
  },
  {
   "cell_type": "code",
   "execution_count": 406,
   "metadata": {},
   "outputs": [],
   "source": [
    "warehouse_now = [[\".\" for _ in range(warehouse_width)] for _ in range(warehouse_height)]\n",
    "for wall in walls:\n",
    "    x, y = wall\n",
    "    warehouse_now[y][x] = \"#\"\n",
    "for box in boxes:\n",
    "    x, y = box\n",
    "    warehouse_now[y][x] = \"[\"\n",
    "    warehouse_now[y][x + 1] = \"]\"\n",
    "x, y = robot_position\n",
    "warehouse_now[y][x] = \"@\"\n",
    "\n",
    "# for line in warehouse_now:\n",
    "#     print(\"\".join(line))"
   ]
  }
 ],
 "metadata": {
  "kernelspec": {
   "display_name": "data_science",
   "language": "python",
   "name": "python3"
  },
  "language_info": {
   "codemirror_mode": {
    "name": "ipython",
    "version": 3
   },
   "file_extension": ".py",
   "mimetype": "text/x-python",
   "name": "python",
   "nbconvert_exporter": "python",
   "pygments_lexer": "ipython3",
   "version": "3.12.3"
  }
 },
 "nbformat": 4,
 "nbformat_minor": 2
}
