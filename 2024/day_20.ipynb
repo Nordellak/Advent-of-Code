{
 "cells": [
  {
   "cell_type": "markdown",
   "metadata": {},
   "source": [
    "# Day 20\n",
    "Find the description of the problem [here](https://adventofcode.com/2024/day/20)!"
   ]
  },
  {
   "cell_type": "markdown",
   "metadata": {},
   "source": [
    "## Part 1"
   ]
  },
  {
   "cell_type": "markdown",
   "metadata": {},
   "source": [
    "Puzzle input:"
   ]
  },
  {
   "cell_type": "code",
   "execution_count": 130,
   "metadata": {},
   "outputs": [],
   "source": [
    "with open(\"input_files/day_20.txt\") as input_file:\n",
    "    input = input_file.read()"
   ]
  },
  {
   "cell_type": "markdown",
   "metadata": {},
   "source": [
    "Test input:"
   ]
  },
  {
   "cell_type": "code",
   "execution_count": 131,
   "metadata": {},
   "outputs": [],
   "source": [
    "# # Comment this cell to use the puzzle input instead of the test input\n",
    "# input = \"\"\"###############\n",
    "# #...#...#.....#\n",
    "# #.#.#.#.#.###.#\n",
    "# #S#...#.#.#...#\n",
    "# #######.#.#.###\n",
    "# #######.#.#...#\n",
    "# #######.#.###.#\n",
    "# ###..E#...#...#\n",
    "# ###.#######.###\n",
    "# #...###...#...#\n",
    "# #.#####.#.###.#\n",
    "# #.#...#.#.#...#\n",
    "# #.#.#.#.#.#.###\n",
    "# #...#...#...###\n",
    "# ###############\"\"\""
   ]
  },
  {
   "cell_type": "markdown",
   "metadata": {},
   "source": [
    "Parse the input:"
   ]
  },
  {
   "cell_type": "code",
   "execution_count": 132,
   "metadata": {},
   "outputs": [],
   "source": [
    "initial_walkable_tiles = set()\n",
    "initial_walls = set()\n",
    "for y, line in enumerate(input.split(\"\\n\")):\n",
    "    for x, tile in enumerate(line):\n",
    "        if tile == \"#\":\n",
    "            initial_walls.add((x, y))\n",
    "        elif tile == \"S\":\n",
    "            start = (x, y)\n",
    "            initial_walkable_tiles.add((x, y))\n",
    "        elif tile == \"E\":\n",
    "            end = (x, y)\n",
    "            initial_walkable_tiles.add((x, y))\n",
    "        else:\n",
    "            initial_walkable_tiles.add((x, y))"
   ]
  },
  {
   "cell_type": "code",
   "execution_count": 133,
   "metadata": {},
   "outputs": [],
   "source": [
    "import heapq\n",
    "\n",
    "def simulate_maze(start_tile, end_tile, all_walkable_tiles):\n",
    "    # Create a priority queue (heap) where each element is a tuple with this format: (time_elapsed, position)\n",
    "    positions = []\n",
    "    heapq.heappush(positions, (0, start_tile))\n",
    "    already_walked = set()\n",
    "    directions = [(1, 0), (-1, 0), (0, 1), (0, -1)]\n",
    "    while positions:\n",
    "        # Get and remove from queue the next position with minimum steps taken\n",
    "        time_elapsed, position = heapq.heappop(positions)\n",
    "\n",
    "        # Exit condition\n",
    "        if position == end_tile:\n",
    "            return time_elapsed\n",
    "            break\n",
    "        \n",
    "        # Don't go to already walked bytes\n",
    "        if position in already_walked:\n",
    "            continue\n",
    "        already_walked.add(position)\n",
    "\n",
    "        # Add each new possible direction to the queue\n",
    "        x, y = position\n",
    "        for direction in directions:\n",
    "            dx, dy = direction\n",
    "            neighbor = (x + dx, y + dy)\n",
    "            if neighbor in all_walkable_tiles and neighbor not in already_walked:\n",
    "                heapq.heappush(positions, (time_elapsed + 1, neighbor))"
   ]
  },
  {
   "cell_type": "code",
   "execution_count": 134,
   "metadata": {},
   "outputs": [
    {
     "name": "stdout",
     "output_type": "stream",
     "text": [
      "0/10416\n",
      "1000/10416\n",
      "2000/10416\n",
      "3000/10416\n",
      "4000/10416\n",
      "5000/10416\n",
      "6000/10416\n",
      "7000/10416\n",
      "8000/10416\n",
      "9000/10416\n",
      "10000/10416\n",
      "There are 1363 cheats that would save at least 100 picoseconds.\n"
     ]
    }
   ],
   "source": [
    "from collections import defaultdict\n",
    "\n",
    "baseline_time = simulate_maze(start, end, initial_walkable_tiles)\n",
    "directions = [(1, 0), (0, 1)]\n",
    "lower_times = []\n",
    "num_walls = len(initial_walls)\n",
    "analyzed_cheats = 0\n",
    "for wall in initial_walls:\n",
    "    print(f\"{analyzed_cheats}/{num_walls}\") if analyzed_cheats % 1000 == 0 else None\n",
    "    analyzed_cheats += 1\n",
    "    walkable_tiles = initial_walkable_tiles.copy()\n",
    "    walkable_tiles.add(wall)\n",
    "    new_time = simulate_maze(start, end, walkable_tiles)\n",
    "    if new_time < baseline_time:\n",
    "        lower_times.append(new_time)\n",
    "\n",
    "time_saved = defaultdict(int)\n",
    "for time in lower_times:\n",
    "    time_saved[baseline_time - time] += 1\n",
    "\n",
    "count = 0\n",
    "for time_saved, cheats in time_saved.items():\n",
    "    if time_saved >= 100:\n",
    "        count += cheats\n",
    "\n",
    "print(f\"There are {count} cheats that would save at least 100 picoseconds.\")"
   ]
  }
 ],
 "metadata": {
  "kernelspec": {
   "display_name": "data_science",
   "language": "python",
   "name": "python3"
  },
  "language_info": {
   "codemirror_mode": {
    "name": "ipython",
    "version": 3
   },
   "file_extension": ".py",
   "mimetype": "text/x-python",
   "name": "python",
   "nbconvert_exporter": "python",
   "pygments_lexer": "ipython3",
   "version": "3.12.3"
  }
 },
 "nbformat": 4,
 "nbformat_minor": 2
}
