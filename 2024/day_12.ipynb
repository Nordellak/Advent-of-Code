{
 "cells": [
  {
   "cell_type": "markdown",
   "metadata": {},
   "source": [
    "# Day 12\n",
    "Find the description of the problem [here](https://adventofcode.com/2024/day/12)!"
   ]
  },
  {
   "cell_type": "markdown",
   "metadata": {},
   "source": [
    "## Part 1"
   ]
  },
  {
   "cell_type": "markdown",
   "metadata": {},
   "source": [
    "Puzzle input:"
   ]
  },
  {
   "cell_type": "code",
   "execution_count": 18,
   "metadata": {},
   "outputs": [],
   "source": [
    "with open(\"input_files/day_12.txt\") as input_file:\n",
    "    input = input_file.read()"
   ]
  },
  {
   "cell_type": "markdown",
   "metadata": {},
   "source": [
    "Test input:"
   ]
  },
  {
   "cell_type": "code",
   "execution_count": 19,
   "metadata": {},
   "outputs": [],
   "source": [
    "# # Comment this cell to use the puzzle input instead of the test input\n",
    "# input = \"\"\"RRRRIICCFF\n",
    "# RRRRIICCCF\n",
    "# VVRRRCCFFF\n",
    "# VVRCCCJFFF\n",
    "# VVVVCJJCFE\n",
    "# VVIVCCJJEE\n",
    "# VVIIICJJEE\n",
    "# MIIIIIJJEE\n",
    "# MIIISIJEEE\n",
    "# MMMISSJEEE\"\"\""
   ]
  },
  {
   "cell_type": "markdown",
   "metadata": {},
   "source": [
    "Parse the input:"
   ]
  },
  {
   "cell_type": "code",
   "execution_count": 20,
   "metadata": {},
   "outputs": [],
   "source": [
    "farm = [list(line) for line in input.split(\"\\n\")]\n",
    "\n",
    "farm_width = len(farm[0])\n",
    "farm_height = len(farm)"
   ]
  },
  {
   "cell_type": "code",
   "execution_count": 21,
   "metadata": {},
   "outputs": [
    {
     "name": "stdout",
     "output_type": "stream",
     "text": [
      "The total price of the fencing will be 1473276\n"
     ]
    }
   ],
   "source": [
    "farm_regions = []\n",
    "\n",
    "# Form quasi-regions by looking at the left and top plot. Some regions may be split\n",
    "for y, line in enumerate(farm):\n",
    "    for x, type in enumerate(line):\n",
    "        if x == 5 and y == 2:\n",
    "            pass\n",
    "        for region in farm_regions:\n",
    "            if (x - 1, y, type) in region or (x, y - 1, type) in region:\n",
    "                region.append((x, y, type))\n",
    "                break\n",
    "        else:\n",
    "            farm_regions.append([(x, y, type)])\n",
    "\n",
    "# Convert quasi-regions to dictionary so that each one is indexed\n",
    "farm_regions = {i: region for i, region in enumerate(farm_regions)}\n",
    "\n",
    "# Get pairs of quasi-regions that together would form fully fledged regions\n",
    "same_regions = set()\n",
    "for i, region_1 in farm_regions.items():\n",
    "    for j, region_2 in farm_regions.items():\n",
    "        if region_1 == region_2:\n",
    "            continue\n",
    "        if region_1[0][2] == region_2[0][2]:\n",
    "            for plot in region_1:\n",
    "                x, y, type = plot\n",
    "                if (x - 1, y, type) in region_2 or (x + 1, y, type) in region_2 or (x, y - 1, type) in region_2 or (x, y + 1, type) in region_2:\n",
    "                    same_regions.add(tuple(sorted((i, j))))\n",
    "                    break\n",
    "\n",
    "# Join quasi-regions pairs into quasi-regions groups\n",
    "same_regions_reduced = []\n",
    "for a, b in same_regions:\n",
    "    overlapping_groups = []\n",
    "    for group in same_regions_reduced:\n",
    "        if a in group or b in group:\n",
    "            overlapping_groups.append(group)\n",
    "    if overlapping_groups:\n",
    "        merged_group = [a, b]\n",
    "        for group in overlapping_groups:\n",
    "            merged_group.extend(group)\n",
    "            same_regions_reduced.remove(group)\n",
    "        same_regions_reduced.append(merged_group)\n",
    "    else:\n",
    "        same_regions_reduced.append([a, b])\n",
    "\n",
    "# Remove duplicates in the quasi-regions groups\n",
    "same_regions = []\n",
    "for group in same_regions_reduced:\n",
    "    same_regions.append(list(set(group)))\n",
    "\n",
    "# Append the quasi-regions together\n",
    "for region_ids in same_regions:\n",
    "    main_id = region_ids[0]\n",
    "    for id in region_ids[1:]:\n",
    "        farm_regions[main_id].extend(farm_regions[id])\n",
    "        farm_regions.pop(id)\n",
    "\n",
    "from collections import defaultdict\n",
    "\n",
    "# Calculate perimeters and areas of each region\n",
    "perimeters = defaultdict(int)\n",
    "areas = {}\n",
    "for i, region in farm_regions.items():\n",
    "    areas[i] = len(region)\n",
    "    for plot in region:\n",
    "        x, y, type = plot\n",
    "        if x == 0 or farm[y][x - 1] != type:\n",
    "            perimeters[i] += 1\n",
    "        if x == farm_width - 1 or farm[y][x + 1] != type:\n",
    "            perimeters[i] += 1\n",
    "        if y == 0 or farm[y - 1][x] != type:\n",
    "            perimeters[i] += 1\n",
    "        if y == farm_height - 1 or farm[y + 1][x] != type:\n",
    "            perimeters[i] += 1\n",
    "\n",
    "# Calculate the total price\n",
    "price = 0\n",
    "for area, perimeter in zip(areas.values(), perimeters.values()):\n",
    "    price += area * perimeter\n",
    "\n",
    "print(f\"The total price of the fencing will be {price}\")"
   ]
  }
 ],
 "metadata": {
  "kernelspec": {
   "display_name": "data_science",
   "language": "python",
   "name": "python3"
  },
  "language_info": {
   "codemirror_mode": {
    "name": "ipython",
    "version": 3
   },
   "file_extension": ".py",
   "mimetype": "text/x-python",
   "name": "python",
   "nbconvert_exporter": "python",
   "pygments_lexer": "ipython3",
   "version": "3.12.3"
  }
 },
 "nbformat": 4,
 "nbformat_minor": 2
}
