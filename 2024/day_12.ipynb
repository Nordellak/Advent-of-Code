{
 "cells": [
  {
   "cell_type": "markdown",
   "metadata": {},
   "source": [
    "# Day 12\n",
    "Find the description of the problem [here](https://adventofcode.com/2024/day/12)!"
   ]
  },
  {
   "cell_type": "markdown",
   "metadata": {},
   "source": [
    "## Part 1"
   ]
  },
  {
   "cell_type": "markdown",
   "metadata": {},
   "source": [
    "Puzzle input:"
   ]
  },
  {
   "cell_type": "code",
   "execution_count": 9,
   "metadata": {},
   "outputs": [],
   "source": [
    "with open(\"input_files/day_12.txt\") as input_file:\n",
    "    input = input_file.read()"
   ]
  },
  {
   "cell_type": "markdown",
   "metadata": {},
   "source": [
    "Test input:"
   ]
  },
  {
   "cell_type": "code",
   "execution_count": 10,
   "metadata": {},
   "outputs": [],
   "source": [
    "# # Comment this cell to use the puzzle input instead of the test input\n",
    "# input = \"\"\"AAAA\n",
    "# BBCD\n",
    "# BBCC\n",
    "# EEEC\"\"\""
   ]
  },
  {
   "cell_type": "markdown",
   "metadata": {},
   "source": [
    "Parse the input:"
   ]
  },
  {
   "cell_type": "code",
   "execution_count": 11,
   "metadata": {},
   "outputs": [],
   "source": [
    "farm = [list(line) for line in input.split(\"\\n\")]\n",
    "\n",
    "farm_width = len(farm[0])\n",
    "farm_height = len(farm)"
   ]
  },
  {
   "cell_type": "markdown",
   "metadata": {},
   "source": [
    "The approach I took to form the regions is to go through the farm left to right and top to bottom, and if the left or upper plot is of the same type, I add it to that region.\n",
    "\n",
    "This sometimes separates plots that should be together, as they touch in another direction, so they are joined afterwards."
   ]
  },
  {
   "cell_type": "code",
   "execution_count": 12,
   "metadata": {},
   "outputs": [
    {
     "name": "stdout",
     "output_type": "stream",
     "text": [
      "The total price of the fencing will be 1473276.\n"
     ]
    }
   ],
   "source": [
    "farm_regions = []\n",
    "\n",
    "# Form quasi-regions by looking at the left and top plot. Some regions may be split\n",
    "for y, line in enumerate(farm):\n",
    "    for x, type in enumerate(line):\n",
    "        if x == 5 and y == 2:\n",
    "            pass\n",
    "        for region in farm_regions:\n",
    "            if (x - 1, y, type) in region or (x, y - 1, type) in region:\n",
    "                region.append((x, y, type))\n",
    "                break\n",
    "        else:\n",
    "            farm_regions.append([(x, y, type)])\n",
    "\n",
    "# Convert quasi-regions to dictionary so that each one is indexed\n",
    "farm_regions = {i: region for i, region in enumerate(farm_regions)}\n",
    "\n",
    "# Get pairs of quasi-regions that together would form fully fledged regions\n",
    "same_regions = set()\n",
    "for i, region_1 in farm_regions.items():\n",
    "    for j, region_2 in farm_regions.items():\n",
    "        if region_1 == region_2:\n",
    "            continue\n",
    "        if region_1[0][2] == region_2[0][2]:\n",
    "            for x, y, type in region_1:\n",
    "                if (x - 1, y, type) in region_2 or (x + 1, y, type) in region_2 or (x, y - 1, type) in region_2 or (x, y + 1, type) in region_2:\n",
    "                    same_regions.add(tuple(sorted((i, j))))\n",
    "                    break\n",
    "\n",
    "# Join quasi-regions pairs into quasi-regions groups\n",
    "same_regions_reduced = []\n",
    "for a, b in same_regions:\n",
    "    overlapping_groups = []\n",
    "    for group in same_regions_reduced:\n",
    "        if a in group or b in group:\n",
    "            overlapping_groups.append(group)\n",
    "    if overlapping_groups:\n",
    "        merged_group = [a, b]\n",
    "        for group in overlapping_groups:\n",
    "            merged_group.extend(group)\n",
    "            same_regions_reduced.remove(group)\n",
    "        same_regions_reduced.append(merged_group)\n",
    "    else:\n",
    "        same_regions_reduced.append([a, b])\n",
    "\n",
    "# Remove duplicates in the quasi-regions groups\n",
    "same_regions = []\n",
    "for group in same_regions_reduced:\n",
    "    same_regions.append(list(set(group)))\n",
    "\n",
    "# Append the quasi-regions together\n",
    "for region_ids in same_regions:\n",
    "    main_id = region_ids[0]\n",
    "    for id in region_ids[1:]:\n",
    "        farm_regions[main_id].extend(farm_regions[id])\n",
    "        farm_regions.pop(id)\n",
    "\n",
    "from collections import defaultdict\n",
    "\n",
    "# Calculate perimeters and areas of each region\n",
    "perimeters = defaultdict(int)\n",
    "areas = {}\n",
    "for i, region in farm_regions.items():\n",
    "    areas[i] = len(region)\n",
    "    for x, y, type in region:\n",
    "        if x == 0 or farm[y][x - 1] != type:\n",
    "            perimeters[i] += 1\n",
    "        if x == farm_width - 1 or farm[y][x + 1] != type:\n",
    "            perimeters[i] += 1\n",
    "        if y == 0 or farm[y - 1][x] != type:\n",
    "            perimeters[i] += 1\n",
    "        if y == farm_height - 1 or farm[y + 1][x] != type:\n",
    "            perimeters[i] += 1\n",
    "\n",
    "# Calculate the total price\n",
    "price = 0\n",
    "for area, perimeter in zip(areas.values(), perimeters.values()):\n",
    "    price += area * perimeter\n",
    "\n",
    "print(f\"The total price of the fencing will be {price}.\")"
   ]
  },
  {
   "cell_type": "markdown",
   "metadata": {},
   "source": [
    "## Part 2"
   ]
  },
  {
   "cell_type": "markdown",
   "metadata": {},
   "source": [
    "I read a little hint that said that the number of sides is always equal to the number of corners (unfortunately I didn't realize that myself ☹️).\n",
    "\n",
    "To calculate the amount of corners, I took a two step approach, first the convex corners and then the concave ones.\n",
    "\n",
    "The convex corners are easy, as they only depend on which sides of a given plot are neighboring another plot. The concave corners require information of two side plots."
   ]
  },
  {
   "cell_type": "code",
   "execution_count": 13,
   "metadata": {},
   "outputs": [
    {
     "name": "stdout",
     "output_type": "stream",
     "text": [
      "The total price of the fencing will be 901100.\n"
     ]
    }
   ],
   "source": [
    "# Format each region as a set of plots, each with a combination of corners {(x, y): (west, east, north, south)}\n",
    "regions_with_fences = {}\n",
    "for id, region in farm_regions.items():\n",
    "    fences = {}\n",
    "    for x, y, type in region:\n",
    "        west = 0\n",
    "        east = 0\n",
    "        north = 0\n",
    "        south = 0\n",
    "        if not (x - 1, y, type) in region:\n",
    "            west = 1\n",
    "        if not (x + 1, y, type) in region:\n",
    "            east = 1\n",
    "        if not (x, y - 1, type) in region:\n",
    "            north = 1\n",
    "        if not (x, y + 1, type) in region:\n",
    "            south = 1\n",
    "        fences[(x, y)] = (west, east, north, south)\n",
    "    regions_with_fences[id] = fences\n",
    "\n",
    "# List all the cases of convex corners for each kind of plot\n",
    "corner_cases = {\n",
    "    (0, 0, 0, 0): 0,\n",
    "    (0, 0, 0, 1): 0,\n",
    "    (0, 0, 1, 0): 0,\n",
    "    (0, 0, 1, 1): 0,\n",
    "    (0, 1, 0, 0): 0,\n",
    "    (0, 1, 0, 1): 1,\n",
    "    (0, 1, 1, 0): 1,\n",
    "    (0, 1, 1, 1): 2,\n",
    "    (1, 0, 0, 0): 0,\n",
    "    (1, 0, 0, 1): 1,\n",
    "    (1, 0, 1, 0): 1,\n",
    "    (1, 0, 1, 1): 2,\n",
    "    (1, 1, 0, 0): 0,\n",
    "    (1, 1, 0, 1): 2,\n",
    "    (1, 1, 1, 0): 2,\n",
    "    (1, 1, 1, 1): 4\n",
    "}\n",
    "\n",
    "# Calculate the number of corners\n",
    "number_corners = {}\n",
    "for id, region in regions_with_fences.items():\n",
    "    count = 0\n",
    "    for coords, corner in region.items():\n",
    "        x, y = coords\n",
    "        count += corner_cases[corner]\n",
    "        # Take into account concave corners, which don't depend on a single plot\n",
    "        if (x + 1, y) in region and region[(x + 1, y)][3] != 0 and (x, y + 1) in region and region[(x, y + 1)][1] != 0:\n",
    "            count += 1\n",
    "        if (x + 1, y) in region and region[(x + 1, y)][2] != 0 and (x, y - 1) in region and region[(x, y - 1)][1] != 0:\n",
    "            count += 1\n",
    "        if (x - 1, y) in region and region[(x - 1, y)][3] != 0 and (x, y + 1) in region and region[(x, y + 1)][0] != 0:\n",
    "            count += 1\n",
    "        if (x - 1, y) in region and region[(x - 1, y)][2] != 0 and (x, y - 1) in region and region[(x, y - 1)][0] != 0:\n",
    "            count += 1\n",
    "    number_corners[id] = count\n",
    "\n",
    "# Calculate the total price\n",
    "price = 0\n",
    "for area, perimeter in zip(areas.values(), number_corners.values()):\n",
    "    price += area * perimeter\n",
    "\n",
    "print(f\"The total price of the fencing will be {price}.\")"
   ]
  }
 ],
 "metadata": {
  "kernelspec": {
   "display_name": "data_science",
   "language": "python",
   "name": "python3"
  },
  "language_info": {
   "codemirror_mode": {
    "name": "ipython",
    "version": 3
   },
   "file_extension": ".py",
   "mimetype": "text/x-python",
   "name": "python",
   "nbconvert_exporter": "python",
   "pygments_lexer": "ipython3",
   "version": "3.12.3"
  }
 },
 "nbformat": 4,
 "nbformat_minor": 2
}
