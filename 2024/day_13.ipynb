{
 "cells": [
  {
   "cell_type": "markdown",
   "metadata": {},
   "source": [
    "# Day 13\n",
    "Find the description of the problem [here](https://adventofcode.com/2024/day/13)!"
   ]
  },
  {
   "cell_type": "markdown",
   "metadata": {},
   "source": [
    "## Part 1"
   ]
  },
  {
   "cell_type": "markdown",
   "metadata": {},
   "source": [
    "Puzzle input:"
   ]
  },
  {
   "cell_type": "code",
   "execution_count": 57,
   "metadata": {},
   "outputs": [],
   "source": [
    "with open(\"input_files/day_13.txt\") as input_file:\n",
    "    input = input_file.read()"
   ]
  },
  {
   "cell_type": "markdown",
   "metadata": {},
   "source": [
    "Test input:"
   ]
  },
  {
   "cell_type": "code",
   "execution_count": 58,
   "metadata": {},
   "outputs": [],
   "source": [
    "# # Comment this cell to use the puzzle input instead of the test input\n",
    "# input = \"\"\"Button A: X+94, Y+34\n",
    "# Button B: X+22, Y+67\n",
    "# Prize: X=8400, Y=5400\n",
    "\n",
    "# Button A: X+26, Y+66\n",
    "# Button B: X+67, Y+21\n",
    "# Prize: X=12748, Y=12176\n",
    "\n",
    "# Button A: X+17, Y+86\n",
    "# Button B: X+84, Y+37\n",
    "# Prize: X=7870, Y=6450\n",
    "\n",
    "# Button A: X+69, Y+23\n",
    "# Button B: X+27, Y+71\n",
    "# Prize: X=18641, Y=10279\"\"\""
   ]
  },
  {
   "cell_type": "markdown",
   "metadata": {},
   "source": [
    "Parse the input:"
   ]
  },
  {
   "cell_type": "code",
   "execution_count": 59,
   "metadata": {},
   "outputs": [],
   "source": [
    "machines_raw = input.split(\"\\n\\n\")\n",
    "machines = []\n",
    "for machine_raw in machines_raw:\n",
    "    machine_raw = machine_raw.split(\"\\n\")\n",
    "    machine = {}\n",
    "    machine[\"A\"] = (int(machine_raw[0][machine_raw[0].find(\"X+\") + 2:machine_raw[0].find(\",\")]),\n",
    "                    int(machine_raw[0][machine_raw[0].find(\",\") + 4:]))\n",
    "    machine[\"B\"] = (int(machine_raw[1][machine_raw[1].find(\"X+\") + 2:machine_raw[1].find(\",\")]),\n",
    "                    int(machine_raw[1][machine_raw[1].find(\",\") + 4:]))\n",
    "    machine[\"prize\"] = (int(machine_raw[2][machine_raw[2].find(\"X=\") + 2:machine_raw[2].find(\",\")]),\n",
    "                        int(machine_raw[2][machine_raw[2].find(\",\") + 4:]))\n",
    "    machines.append(machine)"
   ]
  },
  {
   "cell_type": "markdown",
   "metadata": {},
   "source": [
    "We can write the following system of equations:\n",
    "\n",
    "$ aA + cB = n\\\\ $\n",
    "$ bA + dB = m $\n",
    "\n",
    "where A and B are the number of presses of each button, a, b are the amount in x, y that button A moves the claw, c, d are the same but for button B, and n, m is the target position."
   ]
  },
  {
   "cell_type": "code",
   "execution_count": 60,
   "metadata": {},
   "outputs": [
    {
     "name": "stdout",
     "output_type": "stream",
     "text": [
      "The total cost of winning all winnable machines is 28262.\n"
     ]
    }
   ],
   "source": [
    "tokens = 0\n",
    "for machine in machines:\n",
    "    a, b = machine[\"A\"]\n",
    "    c, d = machine[\"B\"]\n",
    "    n, m = machine[\"prize\"]\n",
    "    # Solve the system of equations\n",
    "    A = (c * m - d * n) / (c * b - d * a)\n",
    "    B = (a * m - b * n) / (a * d - b * c)\n",
    "    if A.is_integer() and B.is_integer():\n",
    "        tokens += int(3 * A + B)\n",
    "\n",
    "print(f\"The total cost of winning all winnable machines is {tokens}.\")"
   ]
  },
  {
   "cell_type": "markdown",
   "metadata": {},
   "source": [
    "## Part 2"
   ]
  },
  {
   "cell_type": "markdown",
   "metadata": {},
   "source": [
    "With this mathematical approach, changing the target position doesn't increase the complexity"
   ]
  },
  {
   "cell_type": "code",
   "execution_count": 61,
   "metadata": {},
   "outputs": [
    {
     "name": "stdout",
     "output_type": "stream",
     "text": [
      "The total cost of winning all winnable corrected machines is 101406661266314.\n"
     ]
    }
   ],
   "source": [
    "tokens = 0\n",
    "for machine in machines:\n",
    "    a, b = machine[\"A\"]\n",
    "    c, d = machine[\"B\"]\n",
    "    n = machine[\"prize\"][0] + 10000000000000\n",
    "    m = machine[\"prize\"][1] + 10000000000000\n",
    "    # Solve the system of equations\n",
    "    A = (c * m - d * n) / (c * b - d * a)\n",
    "    B = (a * m - b * n) / (a * d - b * c)\n",
    "    if A.is_integer() and B.is_integer():\n",
    "        tokens += int(3 * A + B)\n",
    "\n",
    "print(f\"The total cost of winning all winnable corrected machines is {tokens}.\")"
   ]
  }
 ],
 "metadata": {
  "kernelspec": {
   "display_name": "data_science",
   "language": "python",
   "name": "python3"
  },
  "language_info": {
   "codemirror_mode": {
    "name": "ipython",
    "version": 3
   },
   "file_extension": ".py",
   "mimetype": "text/x-python",
   "name": "python",
   "nbconvert_exporter": "python",
   "pygments_lexer": "ipython3",
   "version": "3.12.3"
  }
 },
 "nbformat": 4,
 "nbformat_minor": 2
}
