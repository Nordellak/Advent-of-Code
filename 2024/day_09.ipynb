{
 "cells": [
  {
   "cell_type": "markdown",
   "metadata": {},
   "source": [
    "# Day 9\n",
    "Find the description of the problem [here](https://adventofcode.com/2024/day/9)!"
   ]
  },
  {
   "cell_type": "markdown",
   "metadata": {},
   "source": [
    "## Part 1"
   ]
  },
  {
   "cell_type": "markdown",
   "metadata": {},
   "source": [
    "Puzzle input:"
   ]
  },
  {
   "cell_type": "code",
   "execution_count": 125,
   "metadata": {},
   "outputs": [],
   "source": [
    "with open(\"input_files/day_09.txt\") as input_file:\n",
    "    disk_map = input_file.read()"
   ]
  },
  {
   "cell_type": "markdown",
   "metadata": {},
   "source": [
    "Test input:"
   ]
  },
  {
   "cell_type": "code",
   "execution_count": 126,
   "metadata": {},
   "outputs": [],
   "source": [
    "# # Comment this cell to use the puzzle input instead of the test input\n",
    "# disk_map = \"\"\"2333133121414131402\"\"\""
   ]
  },
  {
   "cell_type": "markdown",
   "metadata": {},
   "source": [
    "Parse the input:"
   ]
  },
  {
   "cell_type": "code",
   "execution_count": 127,
   "metadata": {},
   "outputs": [],
   "source": [
    "disk = \"\"\n",
    "id = 0\n",
    "for index, number in enumerate(disk_map):\n",
    "    if index % 2 == 0:\n",
    "        disk += int(number) * str(id)\n",
    "        id += 1\n",
    "    elif index % 2 == 1:\n",
    "        disk += int(number) * \".\""
   ]
  },
  {
   "cell_type": "markdown",
   "metadata": {},
   "source": [
    "First attempt, too slow, it would take around 30 minutes to execute."
   ]
  },
  {
   "cell_type": "code",
   "execution_count": 128,
   "metadata": {},
   "outputs": [],
   "source": [
    "# disk = list(disk)\n",
    "# compacted_disk = disk.copy()\n",
    "# for i, file_part in enumerate(disk[::-1]):\n",
    "#     print(f\"{i} / {len(disk)}\") if i % 10000 == 0 else None\n",
    "#     if compacted_disk[len(disk) - i - 1].isdigit():\n",
    "#         first_available_space = compacted_disk.index(\".\")\n",
    "#         compacted_disk[first_available_space] = file_part\n",
    "#         compacted_disk[len(disk) - i - 1] = \".\"\n",
    "#     check_finished_count = 0\n",
    "#     for a, b in zip(compacted_disk[:-1], compacted_disk[1:]):\n",
    "#         if a.isdigit() and not b.isdigit():\n",
    "#             check_finished_count += 1\n",
    "#         if check_finished_count > 1:\n",
    "#             break\n",
    "#     if check_finished_count == 1:\n",
    "#         break\n",
    "\n",
    "# checksum = 0\n",
    "# for i, file_part in enumerate(compacted_disk):\n",
    "#     if not file_part.isdigit():\n",
    "#         break\n",
    "#     checksum += i * int(file_part)\n",
    "\n",
    "# print(f\"The filesystem checskum is {checksum}\")"
   ]
  },
  {
   "cell_type": "markdown",
   "metadata": {},
   "source": [
    "Second attempt."
   ]
  },
  {
   "cell_type": "code",
   "execution_count": 135,
   "metadata": {},
   "outputs": [
    {
     "name": "stdout",
     "output_type": "stream",
     "text": [
      "0.00%\n",
      "4.19%\n",
      "8.39%\n",
      "12.58%\n",
      "16.78%\n",
      "20.97%\n",
      "25.17%\n",
      "29.36%\n",
      "33.56%\n",
      "37.75%\n",
      "41.95%\n",
      "46.14%\n",
      "50.34%\n",
      "54.53%\n",
      "58.73%\n",
      "62.92%\n",
      "67.11%\n",
      "71.31%\n",
      "75.50%\n",
      "79.70%\n",
      "The filesystem checskum is 89755341581\n"
     ]
    }
   ],
   "source": [
    "split_disk = list(disk)\n",
    "digits = \"\".join([chunk for chunk in split_disk if chunk != \".\"])\n",
    "data_length = len(digits)\n",
    "compacted_disk = []\n",
    "for i, chunk in enumerate(split_disk):\n",
    "    print(f\"{i / len(split_disk) * 100:.2f}%\") if i % 10000 == 0 else None\n",
    "    if chunk.isdigit():\n",
    "        compacted_disk.append(chunk)\n",
    "    elif chunk == \".\":\n",
    "        compacted_disk.append(digits[-1])\n",
    "        digits = digits[:-1]\n",
    "    compacted_disk_str = \"\".join(compacted_disk)\n",
    "    if len(compacted_disk_str) == data_length:\n",
    "        break\n",
    "\n",
    "compacted_disk = list(compacted_disk_str)\n",
    "checksum = 0\n",
    "for i, file_part in enumerate(compacted_disk):\n",
    "    if not file_part.isdigit():\n",
    "        break\n",
    "    checksum += i * int(file_part)\n",
    "\n",
    "print(f\"The filesystem checskum is {checksum}\")"
   ]
  }
 ],
 "metadata": {
  "kernelspec": {
   "display_name": "data_science",
   "language": "python",
   "name": "python3"
  },
  "language_info": {
   "codemirror_mode": {
    "name": "ipython",
    "version": 3
   },
   "file_extension": ".py",
   "mimetype": "text/x-python",
   "name": "python",
   "nbconvert_exporter": "python",
   "pygments_lexer": "ipython3",
   "version": "3.12.3"
  }
 },
 "nbformat": 4,
 "nbformat_minor": 2
}
