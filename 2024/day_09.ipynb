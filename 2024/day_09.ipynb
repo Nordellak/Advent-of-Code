{
 "cells": [
  {
   "cell_type": "markdown",
   "metadata": {},
   "source": [
    "# Day 9\n",
    "Find the description of the problem [here](https://adventofcode.com/2024/day/9)!"
   ]
  },
  {
   "cell_type": "markdown",
   "metadata": {},
   "source": [
    "## Part 1"
   ]
  },
  {
   "cell_type": "markdown",
   "metadata": {},
   "source": [
    "Puzzle input:"
   ]
  },
  {
   "cell_type": "code",
   "execution_count": 2,
   "metadata": {},
   "outputs": [],
   "source": [
    "with open(\"input_files/day_09.txt\") as input_file:\n",
    "    disk_map = input_file.read()"
   ]
  },
  {
   "cell_type": "markdown",
   "metadata": {},
   "source": [
    "Test input:"
   ]
  },
  {
   "cell_type": "code",
   "execution_count": 3,
   "metadata": {},
   "outputs": [],
   "source": [
    "# # Comment this cell to use the puzzle input instead of the test input\n",
    "# disk_map = \"2333133121414131402\""
   ]
  },
  {
   "cell_type": "markdown",
   "metadata": {},
   "source": [
    "Parse the input:"
   ]
  },
  {
   "cell_type": "code",
   "execution_count": 4,
   "metadata": {},
   "outputs": [],
   "source": [
    "disk = []\n",
    "id = 0\n",
    "for index, number in enumerate(disk_map):\n",
    "    if index % 2 == 0:\n",
    "        for i in range(int(number)):\n",
    "            disk.append(str(id))\n",
    "        id += 1\n",
    "    elif index % 2 == 1:\n",
    "        for i in range(int(number)):\n",
    "            disk.append(\".\")"
   ]
  },
  {
   "cell_type": "code",
   "execution_count": 5,
   "metadata": {},
   "outputs": [
    {
     "name": "stdout",
     "output_type": "stream",
     "text": [
      "The filesystem checskum is 6291146824486\n"
     ]
    }
   ],
   "source": [
    "digits = [chunk for chunk in disk if chunk != \".\"]\n",
    "data_length = len(digits)\n",
    "compacted_disk = []\n",
    "for chunk in disk:\n",
    "    if chunk.isdigit():\n",
    "        compacted_disk.append(chunk)\n",
    "    elif chunk == \".\":\n",
    "        compacted_disk.append(digits[-1])\n",
    "        digits.pop(-1)\n",
    "    if len(compacted_disk) == data_length:\n",
    "        break\n",
    "\n",
    "checksum = 0\n",
    "for i, chunk in enumerate(compacted_disk):\n",
    "    checksum += i * int(chunk)\n",
    "\n",
    "print(f\"The filesystem checskum is {checksum}\")"
   ]
  },
  {
   "cell_type": "markdown",
   "metadata": {},
   "source": [
    "## Part 2"
   ]
  },
  {
   "cell_type": "code",
   "execution_count": 6,
   "metadata": {},
   "outputs": [],
   "source": [
    "def find_spaces(disk, n):\n",
    "    n = int(n)\n",
    "    count = 0\n",
    "    for i, chunk in enumerate(disk):\n",
    "        if chunk == \".\":\n",
    "            count += 1\n",
    "            if count == n:\n",
    "                return i - n + 1\n",
    "        else:\n",
    "            count = 0\n",
    "    return -1"
   ]
  },
  {
   "cell_type": "code",
   "execution_count": 7,
   "metadata": {},
   "outputs": [
    {
     "name": "stdout",
     "output_type": "stream",
     "text": [
      "0 / 10000\n",
      "1000 / 10000\n",
      "2000 / 10000\n",
      "3000 / 10000\n",
      "4000 / 10000\n",
      "5000 / 10000\n",
      "6000 / 10000\n",
      "7000 / 10000\n",
      "8000 / 10000\n",
      "9000 / 10000\n",
      "The filesystem checskum with good fragmentation is 6307279963620\n"
     ]
    }
   ],
   "source": [
    "data = list(map(int, list(disk_map[::2])))\n",
    "data_length = len(data)\n",
    "compacted_disk = disk.copy()\n",
    "for i, chunk_size in enumerate(data[::-1]):\n",
    "    print(f\"{i} / {data_length}\") if i % 1000 == 0 else None\n",
    "    id = str(data_length - i - 1)\n",
    "    available_space = find_spaces(compacted_disk, chunk_size)\n",
    "    if available_space >= 0 and available_space < compacted_disk.index(id):\n",
    "        while id in compacted_disk:\n",
    "            compacted_disk[compacted_disk.index(id)] = \".\"\n",
    "        for j in range(chunk_size):\n",
    "            compacted_disk[available_space + j] = id\n",
    "\n",
    "checksum = 0\n",
    "for i, chunk in enumerate(compacted_disk):\n",
    "    if chunk != \".\":\n",
    "        checksum += i * int(chunk)\n",
    "\n",
    "print(f\"The filesystem checskum with good fragmentation is {checksum}\")"
   ]
  }
 ],
 "metadata": {
  "kernelspec": {
   "display_name": "data_science",
   "language": "python",
   "name": "python3"
  },
  "language_info": {
   "codemirror_mode": {
    "name": "ipython",
    "version": 3
   },
   "file_extension": ".py",
   "mimetype": "text/x-python",
   "name": "python",
   "nbconvert_exporter": "python",
   "pygments_lexer": "ipython3",
   "version": "3.12.3"
  }
 },
 "nbformat": 4,
 "nbformat_minor": 2
}
