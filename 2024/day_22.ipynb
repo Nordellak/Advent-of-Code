{
 "cells": [
  {
   "cell_type": "markdown",
   "metadata": {},
   "source": [
    "# Day 22\n",
    "Find the description of the problem [here](https://adventofcode.com/2024/day/22)!"
   ]
  },
  {
   "cell_type": "markdown",
   "metadata": {},
   "source": [
    "## Part 1"
   ]
  },
  {
   "cell_type": "markdown",
   "metadata": {},
   "source": [
    "Puzzle input:"
   ]
  },
  {
   "cell_type": "code",
   "execution_count": 88,
   "metadata": {},
   "outputs": [],
   "source": [
    "with open(\"input_files/day_22.txt\") as input_file:\n",
    "    input = input_file.read()"
   ]
  },
  {
   "cell_type": "markdown",
   "metadata": {},
   "source": [
    "Test input:"
   ]
  },
  {
   "cell_type": "code",
   "execution_count": 89,
   "metadata": {},
   "outputs": [],
   "source": [
    "# Comment this cell to use the puzzle input instead of the test input\n",
    "input = \"\"\"1\n",
    "2\n",
    "3\n",
    "2024\"\"\""
   ]
  },
  {
   "cell_type": "markdown",
   "metadata": {},
   "source": [
    "Parse the input:"
   ]
  },
  {
   "cell_type": "code",
   "execution_count": 90,
   "metadata": {},
   "outputs": [],
   "source": [
    "secret_numbers = [int(number) for number in input.split(\"\\n\")]"
   ]
  },
  {
   "cell_type": "code",
   "execution_count": 91,
   "metadata": {},
   "outputs": [],
   "source": [
    "def mix(a, b):\n",
    "    return a ^ b\n",
    "\n",
    "def prune(a):\n",
    "    return a % 16777216\n",
    "\n",
    "def evolve(number):\n",
    "    result = prune(mix(number, number * 64))\n",
    "    result = prune(mix(result, int(result / 32)))\n",
    "    result = prune(mix(result, result * 2048))\n",
    "    return result"
   ]
  },
  {
   "cell_type": "code",
   "execution_count": 92,
   "metadata": {},
   "outputs": [
    {
     "name": "stdout",
     "output_type": "stream",
     "text": [
      "The sum of the 2000th secret number of each buyer is 37990510.\n"
     ]
    }
   ],
   "source": [
    "generations = 2000\n",
    "\n",
    "total_secret_numbers = 0\n",
    "for number in secret_numbers:\n",
    "    next_number = number\n",
    "    for _ in range(generations):\n",
    "        next_number = evolve(next_number)\n",
    "    total_secret_numbers += next_number\n",
    "\n",
    "print(f\"The sum of the {generations}th secret number of each buyer is {total_secret_numbers}.\")"
   ]
  },
  {
   "cell_type": "markdown",
   "metadata": {},
   "source": [
    "## Part 2"
   ]
  },
  {
   "cell_type": "code",
   "execution_count": 93,
   "metadata": {},
   "outputs": [],
   "source": [
    "def find_pattern(pattern, main_list):\n",
    "    pattern_length = len(pattern)\n",
    "    for i in range(len(main_list) - pattern_length + 1):\n",
    "        if main_list[i:i + pattern_length] == pattern: \n",
    "            return i + pattern_length\n",
    "    return -1"
   ]
  },
  {
   "cell_type": "markdown",
   "metadata": {},
   "source": [
    "This code works with the example case, but it's incredibly slow. It would take ages to complete in the input data :("
   ]
  },
  {
   "cell_type": "code",
   "execution_count": null,
   "metadata": {},
   "outputs": [
    {
     "name": "stdout",
     "output_type": "stream",
     "text": [
      "You get the most bananas, 23, with the sequence (-2, 1, -1, 3).\n"
     ]
    }
   ],
   "source": [
    "generations = 2000\n",
    "\n",
    "prices_list = []\n",
    "for number in secret_numbers:\n",
    "    prices = []\n",
    "    prices.append(number % 10)\n",
    "    for _ in range(generations):\n",
    "        number = evolve(number)\n",
    "        prices.append(number % 10)\n",
    "    prices_list.append(prices)\n",
    "\n",
    "differences_list = []\n",
    "for prices in prices_list:\n",
    "    differences = []\n",
    "    for price_1, price_2 in zip(prices[:-1], prices[1:]):\n",
    "        differences.append(price_2 - price_1)\n",
    "    differences_list.append(differences)\n",
    "differences_list\n",
    "\n",
    "combinations = {}\n",
    "for a in range(-9, 10):\n",
    "    for b in range(-9, 10):\n",
    "        for c in range(-9, 10):\n",
    "            for d in range(-9, 10):\n",
    "                pattern = [a, b, c, d]\n",
    "                total_price = 0\n",
    "                for prices, differences in zip(prices_list, differences_list):\n",
    "                    max_price_index = find_pattern(pattern, differences)\n",
    "                    if max_price_index >= 0:\n",
    "                        total_price += prices[max_price_index]\n",
    "                combinations[tuple(pattern)] = total_price\n",
    "\n",
    "best_pattern = max(combinations, key=combinations.get)\n",
    "print(f\"You get the most bananas, {combinations[best_pattern]}, with the sequence {best_pattern}.\")"
   ]
  }
 ],
 "metadata": {
  "kernelspec": {
   "display_name": "data_science",
   "language": "python",
   "name": "python3"
  },
  "language_info": {
   "codemirror_mode": {
    "name": "ipython",
    "version": 3
   },
   "file_extension": ".py",
   "mimetype": "text/x-python",
   "name": "python",
   "nbconvert_exporter": "python",
   "pygments_lexer": "ipython3",
   "version": "3.12.3"
  }
 },
 "nbformat": 4,
 "nbformat_minor": 2
}
