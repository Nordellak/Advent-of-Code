{
 "cells": [
  {
   "cell_type": "markdown",
   "metadata": {},
   "source": [
    "# Day 8\n",
    "Find the description of the problem [here](https://adventofcode.com/2024/day/8)!"
   ]
  },
  {
   "cell_type": "markdown",
   "metadata": {},
   "source": [
    "## Part 1"
   ]
  },
  {
   "cell_type": "markdown",
   "metadata": {},
   "source": [
    "Puzzle input:"
   ]
  },
  {
   "cell_type": "code",
   "execution_count": 127,
   "metadata": {},
   "outputs": [],
   "source": [
    "with open(\"input_files/day_08.txt\") as input_file:\n",
    "    input = input_file.read()"
   ]
  },
  {
   "cell_type": "markdown",
   "metadata": {},
   "source": [
    "Test input:"
   ]
  },
  {
   "cell_type": "code",
   "execution_count": 128,
   "metadata": {},
   "outputs": [],
   "source": [
    "# # Comment this cell to use the puzzle input instead of the test input\n",
    "# input = \"\"\"............\n",
    "# ........0...\n",
    "# .....0......\n",
    "# .......0....\n",
    "# ....0.......\n",
    "# ......A.....\n",
    "# ............\n",
    "# ............\n",
    "# ........A...\n",
    "# .........A..\n",
    "# ............\n",
    "# ............\"\"\""
   ]
  },
  {
   "cell_type": "markdown",
   "metadata": {},
   "source": [
    "Parse the input:"
   ]
  },
  {
   "cell_type": "code",
   "execution_count": 129,
   "metadata": {},
   "outputs": [],
   "source": [
    "antenna_map = [list(line) for line in input.split(\"\\n\")]"
   ]
  },
  {
   "cell_type": "markdown",
   "metadata": {},
   "source": [
    "Find the positions with antennas:"
   ]
  },
  {
   "cell_type": "code",
   "execution_count": 130,
   "metadata": {},
   "outputs": [],
   "source": [
    "antennas = []\n",
    "for j, line in enumerate(antenna_map):\n",
    "    for i, frequency in enumerate(line):\n",
    "        if frequency != \".\":\n",
    "            antennas.append({\n",
    "                \"frequency\": frequency,\n",
    "                \"position\": (i, j)\n",
    "            })"
   ]
  },
  {
   "cell_type": "markdown",
   "metadata": {},
   "source": [
    "And now find pairs of antennas:"
   ]
  },
  {
   "cell_type": "code",
   "execution_count": 131,
   "metadata": {},
   "outputs": [],
   "source": [
    "pairs = []\n",
    "for antenna_1 in antennas:\n",
    "    for antenna_2 in antennas:\n",
    "        if antenna_1 == antenna_2:\n",
    "            continue\n",
    "        if antenna_1[\"frequency\"] == antenna_2[\"frequency\"]:\n",
    "            pair = {antenna_1[\"position\"], antenna_2[\"position\"]}\n",
    "            if pair not in pairs:\n",
    "                pairs.append(pair)"
   ]
  },
  {
   "cell_type": "markdown",
   "metadata": {},
   "source": [
    "Finally, find antinodes:"
   ]
  },
  {
   "cell_type": "code",
   "execution_count": 132,
   "metadata": {},
   "outputs": [
    {
     "name": "stdout",
     "output_type": "stream",
     "text": [
      "There are 259 unique antinodes\n"
     ]
    }
   ],
   "source": [
    "map_width = len(antenna_map[0])\n",
    "map_height = len(antenna_map)\n",
    "\n",
    "antinodes = []\n",
    "for pair in pairs:\n",
    "    position_1, position_2 = pair\n",
    "    difference = (position_2[0] - position_1[0], position_2[1] - position_1[1])\n",
    "    antinode_1 = (position_1[0] - difference[0], position_1[1] - difference[1])\n",
    "    antinode_2 = (position_2[0] + difference[0], position_2[1] + difference[1])\n",
    "    if antinode_1[0] >= 0 and antinode_1[0] < map_width and antinode_1[1] >= 0 and antinode_1[1] < map_height:\n",
    "        antinodes.append(antinode_1)\n",
    "    if antinode_2[0] >= 0 and antinode_2[0] < map_width and antinode_2[1] >= 0 and antinode_2[1] < map_height:\n",
    "        antinodes.append(antinode_2)\n",
    "antinodes = set(antinodes)\n",
    "print(f\"There are {len(antinodes)} unique antinodes\")"
   ]
  },
  {
   "cell_type": "markdown",
   "metadata": {},
   "source": [
    "## Part 2"
   ]
  },
  {
   "cell_type": "markdown",
   "metadata": {},
   "source": [
    "Taking into account all the antinodes along the line of each pair of antennas:"
   ]
  },
  {
   "cell_type": "code",
   "execution_count": 133,
   "metadata": {},
   "outputs": [
    {
     "name": "stdout",
     "output_type": "stream",
     "text": [
      "There are 927 unique antinodes taking into account resonant harmonics effects\n"
     ]
    }
   ],
   "source": [
    "antinodes = []\n",
    "for pair in pairs:\n",
    "    position_1, position_2 = pair\n",
    "    difference = (position_2[0] - position_1[0], position_2[1] - position_1[1])\n",
    "    for i in range(-max(map_width, map_height), max(map_width, map_height)):\n",
    "        antinode = (position_1[0] + i * difference[0], position_1[1] + i * difference[1])\n",
    "        if antinode[0] >= 0 and antinode[0] < map_width and antinode[1] >= 0 and antinode[1] < map_height:\n",
    "            antinodes.append(antinode)\n",
    "antinodes = set(antinodes)\n",
    "print(f\"There are {len(antinodes)} unique antinodes taking into account resonant harmonics effects\")"
   ]
  }
 ],
 "metadata": {
  "kernelspec": {
   "display_name": "data_science",
   "language": "python",
   "name": "python3"
  },
  "language_info": {
   "codemirror_mode": {
    "name": "ipython",
    "version": 3
   },
   "file_extension": ".py",
   "mimetype": "text/x-python",
   "name": "python",
   "nbconvert_exporter": "python",
   "pygments_lexer": "ipython3",
   "version": "3.12.3"
  }
 },
 "nbformat": 4,
 "nbformat_minor": 2
}
