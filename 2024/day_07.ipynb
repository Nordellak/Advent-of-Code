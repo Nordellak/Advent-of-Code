{
 "cells": [
  {
   "cell_type": "markdown",
   "metadata": {},
   "source": [
    "# Day 7\n",
    "Find the description of the problem [here](https://adventofcode.com/2024/day/7)!"
   ]
  },
  {
   "cell_type": "markdown",
   "metadata": {},
   "source": [
    "## Part 1"
   ]
  },
  {
   "cell_type": "markdown",
   "metadata": {},
   "source": [
    "Puzzle input:"
   ]
  },
  {
   "cell_type": "code",
   "execution_count": 186,
   "metadata": {},
   "outputs": [],
   "source": [
    "with open(\"input_files/day_07.txt\") as input_file:\n",
    "    input = input_file.read()"
   ]
  },
  {
   "cell_type": "markdown",
   "metadata": {},
   "source": [
    "Test input:"
   ]
  },
  {
   "cell_type": "code",
   "execution_count": 187,
   "metadata": {},
   "outputs": [],
   "source": [
    "# # Comment this cell to use the puzzle input instead of the test input\n",
    "# input = \"\"\"190: 10 19\n",
    "# 3267: 81 40 27\n",
    "# 83: 17 5\n",
    "# 156: 15 6\n",
    "# 7290: 6 8 6 15\n",
    "# 161011: 16 10 13\n",
    "# 192: 17 8 14\n",
    "# 21037: 9 7 18 13\n",
    "# 292: 11 6 16 20\"\"\""
   ]
  },
  {
   "cell_type": "markdown",
   "metadata": {},
   "source": [
    "Parse the input:"
   ]
  },
  {
   "cell_type": "code",
   "execution_count": 188,
   "metadata": {},
   "outputs": [],
   "source": [
    "test_value_list = []\n",
    "numbers_list = []\n",
    "for line in input.split(\"\\n\"):\n",
    "    test_value, numbers = line.split(\": \")\n",
    "    test_value = int(test_value)\n",
    "    numbers = list(map(int, numbers.split(\" \")))\n",
    "    test_value_list.append(test_value)\n",
    "    numbers_list.append(numbers)"
   ]
  },
  {
   "cell_type": "code",
   "execution_count": 189,
   "metadata": {},
   "outputs": [],
   "source": [
    "def check_calibration(test_value, numbers):\n",
    "    number_of_operations = len(numbers) - 1\n",
    "    # Iterate through all the binary numbers with number_of_operations digits, 0 for + and 1 for *\n",
    "    for combination in range(2 ** number_of_operations):\n",
    "        operators = bin(combination)[2:].zfill(number_of_operations)\n",
    "        result = numbers[0]\n",
    "        for pos, operator in enumerate(operators):\n",
    "            if operator == \"0\":\n",
    "                result += numbers[pos + 1]\n",
    "            elif operator == \"1\":\n",
    "                result *= numbers[pos + 1]\n",
    "        if result == test_value:\n",
    "            return True\n",
    "    return False"
   ]
  },
  {
   "cell_type": "code",
   "execution_count": 190,
   "metadata": {},
   "outputs": [
    {
     "name": "stdout",
     "output_type": "stream",
     "text": [
      "The total calibration result is 12940396350192\n"
     ]
    }
   ],
   "source": [
    "total_calibration_result = 0\n",
    "for test_value, numbers in zip(test_value_list, numbers_list):\n",
    "    if check_calibration(test_value, numbers):\n",
    "        total_calibration_result += test_value\n",
    "print(f\"The total calibration result is {total_calibration_result}\")"
   ]
  },
  {
   "cell_type": "markdown",
   "metadata": {},
   "source": [
    "## Part 2"
   ]
  },
  {
   "cell_type": "markdown",
   "metadata": {},
   "source": [
    "Modifying the check_calibration function to check for more than 2 operators:"
   ]
  },
  {
   "cell_type": "code",
   "execution_count": 191,
   "metadata": {},
   "outputs": [],
   "source": [
    "def convert_to_ternary(number):\n",
    "    digits = []\n",
    "    while number:\n",
    "        remainder = number % 3\n",
    "        number = int(number / 3)\n",
    "        digits.append(remainder)\n",
    "    digits.reverse()\n",
    "    return \"\".join(map(str, digits))"
   ]
  },
  {
   "cell_type": "code",
   "execution_count": 192,
   "metadata": {},
   "outputs": [],
   "source": [
    "def check_calibration(test_value, numbers):\n",
    "    number_of_operations = len(numbers) - 1\n",
    "    # Iterate through all the TERNARY numbers with number_of_operations digits, 0 for +, 1 for * and 2 for ||\n",
    "    for combination in range(3 ** number_of_operations):\n",
    "        operators = str(convert_to_ternary(combination)).zfill(number_of_operations)\n",
    "        result = numbers[0]\n",
    "        for pos, operator in enumerate(operators):\n",
    "            if operator == \"0\":\n",
    "                result += numbers[pos + 1]\n",
    "            elif operator == \"1\":\n",
    "                result *= numbers[pos + 1]\n",
    "            elif operator == \"2\":\n",
    "                result = int(str(result) + str(numbers[pos + 1]))\n",
    "        if result == test_value:\n",
    "            return True\n",
    "    return False"
   ]
  },
  {
   "cell_type": "code",
   "execution_count": 193,
   "metadata": {},
   "outputs": [
    {
     "name": "stdout",
     "output_type": "stream",
     "text": [
      "50/850\n",
      "100/850\n",
      "150/850\n",
      "200/850\n",
      "250/850\n",
      "300/850\n",
      "350/850\n",
      "400/850\n",
      "450/850\n",
      "500/850\n",
      "550/850\n",
      "600/850\n",
      "650/850\n",
      "700/850\n",
      "750/850\n",
      "800/850\n",
      "850/850\n",
      "The total calibration result is 106016735664498\n"
     ]
    }
   ],
   "source": [
    "total_calibration_result = 0\n",
    "i = 0\n",
    "for test_value, numbers in zip(test_value_list, numbers_list):\n",
    "    if check_calibration(test_value, numbers):\n",
    "        total_calibration_result += test_value\n",
    "    \n",
    "    # Monitor the execution\n",
    "    i += 1\n",
    "    if i % 50 == 0:\n",
    "        print(f\"{i}/{len(numbers_list)}\")\n",
    "\n",
    "print(f\"The total calibration result is {total_calibration_result}\")"
   ]
  }
 ],
 "metadata": {
  "kernelspec": {
   "display_name": "data_science",
   "language": "python",
   "name": "python3"
  },
  "language_info": {
   "codemirror_mode": {
    "name": "ipython",
    "version": 3
   },
   "file_extension": ".py",
   "mimetype": "text/x-python",
   "name": "python",
   "nbconvert_exporter": "python",
   "pygments_lexer": "ipython3",
   "version": "3.12.3"
  }
 },
 "nbformat": 4,
 "nbformat_minor": 2
}
