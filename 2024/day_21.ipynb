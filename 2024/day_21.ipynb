{
 "cells": [
  {
   "cell_type": "markdown",
   "metadata": {},
   "source": [
    "# Day 21\n",
    "Find the description of the problem [here](https://adventofcode.com/2024/day/21)!"
   ]
  },
  {
   "cell_type": "markdown",
   "metadata": {},
   "source": [
    "## Part 1"
   ]
  },
  {
   "cell_type": "markdown",
   "metadata": {},
   "source": [
    "Puzzle input:"
   ]
  },
  {
   "cell_type": "code",
   "execution_count": 214,
   "metadata": {},
   "outputs": [],
   "source": [
    "with open(\"input_files/day_21.txt\") as input_file:\n",
    "    input = input_file.read()"
   ]
  },
  {
   "cell_type": "markdown",
   "metadata": {},
   "source": [
    "Test input:"
   ]
  },
  {
   "cell_type": "code",
   "execution_count": 215,
   "metadata": {},
   "outputs": [],
   "source": [
    "# # Comment this cell to use the puzzle input instead of the test input\n",
    "# input = \"\"\"029A\n",
    "# 980A\n",
    "# 179A\n",
    "# 456A\n",
    "# 379A\"\"\""
   ]
  },
  {
   "cell_type": "markdown",
   "metadata": {},
   "source": [
    "Parse the input:"
   ]
  },
  {
   "cell_type": "code",
   "execution_count": 216,
   "metadata": {},
   "outputs": [],
   "source": [
    "numpad = \"\"\"789\n",
    "456\n",
    "123\n",
    ".0A\"\"\"\n",
    "numpad = {key: (x, y) for y, line in enumerate(numpad.split(\"\\n\")) for x, key in enumerate(line) if key != \".\"}\n",
    "numpad[\"type\"] = \"numpad\"\n",
    "\n",
    "dirpad = \"\"\".^A\n",
    "<v>\"\"\"\n",
    "dirpad = {key: (x, y) for y, line in enumerate(dirpad.split(\"\\n\")) for x, key in enumerate(line) if key != \".\"}\n",
    "dirpad[\"type\"] = \"dirpad\"\n",
    "\n",
    "codes = [line for line in input.split(\"\\n\")]"
   ]
  },
  {
   "cell_type": "code",
   "execution_count": 217,
   "metadata": {},
   "outputs": [],
   "source": [
    "def move_robot(origin, target, pad_type):\n",
    "    x1, y1 = pad_type[origin]\n",
    "    x2, y2 = pad_type[target]\n",
    "    \n",
    "    dir_x = x2 - x1\n",
    "    dir_y = y2 - y1\n",
    "\n",
    "    moves_x = \"\"\n",
    "    moves_y = \"\"\n",
    "    if dir_x < 0:\n",
    "        moves_x += \"<\" * abs(dir_x)\n",
    "    elif dir_x > 0:\n",
    "        moves_x += \">\" * dir_x\n",
    "    if dir_y < 0:\n",
    "        moves_y += \"^\" * abs(dir_y)\n",
    "    elif dir_y > 0:\n",
    "        moves_y += \"v\" * dir_y\n",
    "    \n",
    "    # if dir_y > 0 and pad_type[\"type\"] == \"numpad\" or dir_y < 0 and pad_type[\"type\"] == \"dirpad\":\n",
    "    #     return moves_x + moves_y + \"A\"\n",
    "    # elif dir_y < 0 and pad_type[\"type\"] == \"numpad\" or dir_y > 0 and pad_type[\"type\"] == \"dirpad\":\n",
    "    #     return moves_y + moves_x + \"A\"\n",
    "\n",
    "    # if pad_type[\"type\"] == \"numpad\" and x2 == 0 or pad_type[\"type\"] == \"dirpad\" and x2 == 0:\n",
    "    #     return moves_y + moves_x + \"A\"\n",
    "    # elif pad_type[\"type\"] == \"numpad\" and y2 == 3 or pad_type[\"type\"] == \"dirpad\" and y2 == 0:\n",
    "    #     return moves_x + moves_y + \"A\"\n",
    "    \n",
    "    return moves_x + moves_y + \"A\""
   ]
  },
  {
   "cell_type": "markdown",
   "metadata": {},
   "source": [
    "The following code gets a sequence of moves that result in the code being pressed. However, it does not find the shortest one, and I haven't been able to find a way to determine which one is the shortest one given the different layers of possibilities :("
   ]
  },
  {
   "cell_type": "code",
   "execution_count": 218,
   "metadata": {},
   "outputs": [
    {
     "name": "stdout",
     "output_type": "stream",
     "text": [
      "72 * 341\n",
      "70 * 83\n",
      "74 * 802\n",
      "72 * 973\n",
      "62 * 780\n",
      "208126\n"
     ]
    }
   ],
   "source": [
    "complexity = 0\n",
    "for code in codes:\n",
    "    previous_key = \"A\"\n",
    "    moves_numpad = \"\"\n",
    "    for key in code:\n",
    "        moves_numpad += move_robot(previous_key, key, numpad)\n",
    "        previous_key = key\n",
    "    \n",
    "    previous_key = \"A\"\n",
    "    moves_dirpad_1 = \"\"\n",
    "    for key in moves_numpad:\n",
    "        moves_dirpad_1 += move_robot(previous_key, key, dirpad)\n",
    "        previous_key = key\n",
    "\n",
    "    previous_key = \"A\"\n",
    "    moves_dirpad_2 = \"\"\n",
    "    for key in moves_dirpad_1:\n",
    "        moves_dirpad_2 += move_robot(previous_key, key, dirpad)\n",
    "        previous_key = key\n",
    "    \n",
    "    complexity += len(moves_dirpad_2) * int(code[:-1])\n",
    "    print(f\"{len(moves_dirpad_2)} * {int(code[:-1])}\")\n",
    "print(complexity)\n",
    "    "
   ]
  }
 ],
 "metadata": {
  "kernelspec": {
   "display_name": "data_science",
   "language": "python",
   "name": "python3"
  },
  "language_info": {
   "codemirror_mode": {
    "name": "ipython",
    "version": 3
   },
   "file_extension": ".py",
   "mimetype": "text/x-python",
   "name": "python",
   "nbconvert_exporter": "python",
   "pygments_lexer": "ipython3",
   "version": "3.12.3"
  }
 },
 "nbformat": 4,
 "nbformat_minor": 2
}
