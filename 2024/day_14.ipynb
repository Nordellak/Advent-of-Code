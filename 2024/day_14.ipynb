{
 "cells": [
  {
   "cell_type": "markdown",
   "metadata": {},
   "source": [
    "# Day 14\n",
    "Find the description of the problem [here](https://adventofcode.com/2024/day/14)!"
   ]
  },
  {
   "cell_type": "markdown",
   "metadata": {},
   "source": [
    "## Part 1"
   ]
  },
  {
   "cell_type": "markdown",
   "metadata": {},
   "source": [
    "Puzzle input:"
   ]
  },
  {
   "cell_type": "code",
   "execution_count": 223,
   "metadata": {},
   "outputs": [],
   "source": [
    "with open(\"input_files/day_14.txt\") as input_file:\n",
    "    input = input_file.read()\n",
    "width = 101\n",
    "height = 103"
   ]
  },
  {
   "cell_type": "markdown",
   "metadata": {},
   "source": [
    "Test input:"
   ]
  },
  {
   "cell_type": "code",
   "execution_count": 224,
   "metadata": {},
   "outputs": [],
   "source": [
    "# # Comment this cell to use the puzzle input instead of the test input\n",
    "# input = \"\"\"p=0,4 v=3,-3\n",
    "# p=6,3 v=-1,-3\n",
    "# p=10,3 v=-1,2\n",
    "# p=2,0 v=2,-1\n",
    "# p=0,0 v=1,3\n",
    "# p=3,0 v=-2,-2\n",
    "# p=7,6 v=-1,-3\n",
    "# p=3,0 v=-1,-2\n",
    "# p=9,3 v=2,3\n",
    "# p=7,3 v=-1,2\n",
    "# p=2,4 v=2,-3\n",
    "# p=9,5 v=-3,-3\"\"\"\n",
    "# width = 11\n",
    "# height = 7"
   ]
  },
  {
   "cell_type": "markdown",
   "metadata": {},
   "source": [
    "Parse the input:"
   ]
  },
  {
   "cell_type": "code",
   "execution_count": 225,
   "metadata": {},
   "outputs": [],
   "source": [
    "import re\n",
    "\n",
    "initial_robots = []\n",
    "for line in input.split(\"\\n\"):\n",
    "    x, y, vx, vy = re.findall(r\"-?\\d+\", line)\n",
    "    position = (int(x), int(y))\n",
    "    velocity = (int(vx), int(vy))\n",
    "    initial_robots.append([position, velocity])"
   ]
  },
  {
   "cell_type": "code",
   "execution_count": 226,
   "metadata": {},
   "outputs": [
    {
     "name": "stdout",
     "output_type": "stream",
     "text": [
      "The safety factors after 100 seconds is 208437768.\n"
     ]
    }
   ],
   "source": [
    "seconds = 100\n",
    "\n",
    "# Simulate the robots' movement\n",
    "robots = [line[:] for line in initial_robots]\n",
    "for i in range(seconds):\n",
    "    for id, robot in enumerate(robots):\n",
    "        x, y = robot[0]\n",
    "        vx, vy = robot[1]\n",
    "\n",
    "        x += vx\n",
    "        if x >= width:\n",
    "            x -= width\n",
    "        elif x < 0:\n",
    "            x += width\n",
    "        y += vy\n",
    "        if y >= height:\n",
    "            y -= height\n",
    "        elif y < 0:\n",
    "            y += height\n",
    "        robots[id][0] = (x, y)\n",
    "        \n",
    "# Draw the area map with the robot counts\n",
    "area = [[0 for _ in range(width)] for _ in range(height)]\n",
    "for robot in robots:\n",
    "    x, y = robot[0]\n",
    "    area[y][x] += 1\n",
    "\n",
    "# Separate into quadrants\n",
    "ul_quadrant = []\n",
    "ur_quadrant = []\n",
    "bl_quadrant = []\n",
    "br_quadrant = []\n",
    "for row, line in enumerate(area):\n",
    "    if row < height // 2:\n",
    "        ul_quadrant.append(line[:width // 2])\n",
    "        ur_quadrant.append(line[width // 2 + 1:])\n",
    "    elif row > height // 2:\n",
    "        bl_quadrant.append(line[:width // 2])\n",
    "        br_quadrant.append(line[width // 2 + 1:])\n",
    "\n",
    "# Count robots in each quadrant\n",
    "ul_count = 0\n",
    "for line in ul_quadrant:\n",
    "    for robots in line:\n",
    "        ul_count += robots\n",
    "ur_count = 0\n",
    "for line in ur_quadrant:\n",
    "    for robots in line:\n",
    "        ur_count += robots\n",
    "bl_count = 0\n",
    "for line in bl_quadrant:\n",
    "    for robots in line:\n",
    "        bl_count += robots\n",
    "br_count = 0\n",
    "for line in br_quadrant:\n",
    "    for robots in line:\n",
    "        br_count += robots\n",
    "safety_factor = ul_count * ur_count * bl_count * br_count\n",
    "\n",
    "print(f\"The safety factors after {seconds} seconds is {safety_factor}.\")"
   ]
  },
  {
   "cell_type": "markdown",
   "metadata": {},
   "source": [
    "## Part 2"
   ]
  },
  {
   "cell_type": "markdown",
   "metadata": {},
   "source": [
    "This was my first attempt, to try to find a blob of robots that would probably be within the tree. However, after 5 minutes of runtime, simulating 5000 seconds, I decided to stop and try another approach. After getting the solution I tested it and it did indeed work, I just had to wait two more minutes :("
   ]
  },
  {
   "cell_type": "code",
   "execution_count": 227,
   "metadata": {},
   "outputs": [
    {
     "name": "stdout",
     "output_type": "stream",
     "text": [
      "100 seconds elapsed\n",
      "200 seconds elapsed\n",
      "300 seconds elapsed\n",
      "400 seconds elapsed\n",
      "500 seconds elapsed\n",
      "600 seconds elapsed\n",
      "700 seconds elapsed\n",
      "800 seconds elapsed\n",
      "900 seconds elapsed\n",
      "1000 seconds elapsed\n",
      "1100 seconds elapsed\n",
      "1200 seconds elapsed\n",
      "1300 seconds elapsed\n",
      "1400 seconds elapsed\n",
      "1500 seconds elapsed\n",
      "1600 seconds elapsed\n",
      "1700 seconds elapsed\n",
      "1800 seconds elapsed\n",
      "1900 seconds elapsed\n",
      "2000 seconds elapsed\n",
      "2100 seconds elapsed\n",
      "2200 seconds elapsed\n",
      "2300 seconds elapsed\n",
      "2400 seconds elapsed\n",
      "2500 seconds elapsed\n",
      "2600 seconds elapsed\n",
      "2700 seconds elapsed\n",
      "2800 seconds elapsed\n",
      "2900 seconds elapsed\n",
      "3000 seconds elapsed\n",
      "3100 seconds elapsed\n",
      "3200 seconds elapsed\n",
      "3300 seconds elapsed\n",
      "3400 seconds elapsed\n",
      "3500 seconds elapsed\n",
      "3600 seconds elapsed\n",
      "3700 seconds elapsed\n",
      "3800 seconds elapsed\n",
      "3900 seconds elapsed\n",
      "4000 seconds elapsed\n",
      "4100 seconds elapsed\n",
      "4200 seconds elapsed\n",
      "4300 seconds elapsed\n",
      "4400 seconds elapsed\n",
      "4500 seconds elapsed\n",
      "4600 seconds elapsed\n",
      "4700 seconds elapsed\n",
      "4800 seconds elapsed\n",
      "4900 seconds elapsed\n",
      "5000 seconds elapsed\n",
      "5100 seconds elapsed\n",
      "5200 seconds elapsed\n",
      "5300 seconds elapsed\n",
      "5400 seconds elapsed\n",
      "5500 seconds elapsed\n",
      "5600 seconds elapsed\n",
      "5700 seconds elapsed\n",
      "5800 seconds elapsed\n",
      "5900 seconds elapsed\n",
      "6000 seconds elapsed\n",
      "6100 seconds elapsed\n",
      "6200 seconds elapsed\n",
      "6300 seconds elapsed\n",
      "6400 seconds elapsed\n",
      "6500 seconds elapsed\n",
      "6600 seconds elapsed\n",
      "6700 seconds elapsed\n",
      "6800 seconds elapsed\n",
      "6900 seconds elapsed\n",
      "7000 seconds elapsed\n",
      "7100 seconds elapsed\n",
      "7200 seconds elapsed\n",
      "7300 seconds elapsed\n",
      "7400 seconds elapsed\n",
      "Christmass tree found in 7492 seconds\n"
     ]
    }
   ],
   "source": [
    "blob = \"\"\"###\n",
    "###\n",
    "###\n",
    "\"\"\"\n",
    "\n",
    "christmass_tree_found = False\n",
    "seconds = 0\n",
    "robots = [line[:] for line in initial_robots]\n",
    "while not christmass_tree_found:\n",
    "    for id, robot in enumerate(robots):\n",
    "        x, y = robot[0]\n",
    "        vx, vy = robot[1]\n",
    "\n",
    "        x += vx\n",
    "        if x >= width:\n",
    "            x -= width\n",
    "        elif x < 0:\n",
    "            x += width\n",
    "        y += vy\n",
    "        if y >= height:\n",
    "            y -= height\n",
    "        elif y < 0:\n",
    "            y += height\n",
    "        robots[id][0] = (x, y)\n",
    "\n",
    "    area = [[\".\" for _ in range(width)] for _ in range(height)]\n",
    "    for robot in robots:\n",
    "        x, y = robot[0]\n",
    "        area[y][x] = \"#\"\n",
    "\n",
    "    # Scan the area for the blob\n",
    "    for j in range(height - 3 + 1):\n",
    "        for i in range(width - 3 + 1):\n",
    "            scan_area = \"\"\n",
    "            for r in range(3):\n",
    "                for c in range(3):\n",
    "                    scan_area += area[j + r][i + c]\n",
    "                scan_area += \"\\n\"\n",
    "            if scan_area == blob:\n",
    "                christmass_tree_found = True\n",
    "    \n",
    "    seconds += 1\n",
    "    print(f\"{seconds} seconds elapsed\") if seconds % 100 == 0 else None\n",
    "\n",
    "print(f\"Christmass tree found in {seconds} seconds\")"
   ]
  },
  {
   "cell_type": "markdown",
   "metadata": {},
   "source": [
    "Unfortunately I didn't think of the following solution by myself. I unintentionally saw someone do it on Reddit and decided to try it. Just generate images and search for the tree.\n",
    "Instead of searching through all the images 10000 images, I noticed that counting from 18 seconds, every 101 seconds a pattern appeared, so I only checked at that interval to find the tree.\n",
    "\n",
    "<img src=\"day_14_images/18.png\">"
   ]
  },
  {
   "cell_type": "code",
   "execution_count": 228,
   "metadata": {},
   "outputs": [],
   "source": [
    "import numpy as np \n",
    "from PIL import Image as img\n",
    "\n",
    "max_seconds = 10000\n",
    "robots = [line[:] for line in initial_robots]\n",
    "for seconds in range(1, max_seconds + 1):\n",
    "    for id, robot in enumerate(robots):\n",
    "        x, y = robot[0]\n",
    "        vx, vy = robot[1]\n",
    "\n",
    "        x += vx\n",
    "        if x >= width:\n",
    "            x -= width\n",
    "        elif x < 0:\n",
    "            x += width\n",
    "        y += vy\n",
    "        if y >= height:\n",
    "            y -= height\n",
    "        elif y < 0:\n",
    "            y += height\n",
    "        robots[id][0] = (x, y)\n",
    "\n",
    "    if (seconds - 18) % 101 == 0:\n",
    "        area = [[0 for _ in range(width)] for _ in range(height)]\n",
    "        for robot in robots:\n",
    "            x, y = robot[0]\n",
    "            area[y][x] = 255\n",
    "        area_np = np.array(area, dtype=np.uint8)\n",
    "        image = img.fromarray(area_np)\n",
    "        image.save(f\"day_14_images/{seconds}.png\")"
   ]
  },
  {
   "cell_type": "markdown",
   "metadata": {},
   "source": [
    "This way, I found the tree by looking at some pictures saved to a folder:\n",
    "\n",
    "<img src=\"day_14_images/7492.png\">"
   ]
  }
 ],
 "metadata": {
  "kernelspec": {
   "display_name": "data_science",
   "language": "python",
   "name": "python3"
  },
  "language_info": {
   "codemirror_mode": {
    "name": "ipython",
    "version": 3
   },
   "file_extension": ".py",
   "mimetype": "text/x-python",
   "name": "python",
   "nbconvert_exporter": "python",
   "pygments_lexer": "ipython3",
   "version": "3.12.3"
  }
 },
 "nbformat": 4,
 "nbformat_minor": 2
}
