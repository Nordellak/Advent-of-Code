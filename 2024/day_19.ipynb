{
 "cells": [
  {
   "cell_type": "markdown",
   "metadata": {},
   "source": [
    "# Day 19\n",
    "Find the description of the problem [here](https://adventofcode.com/2024/day/19)!"
   ]
  },
  {
   "cell_type": "markdown",
   "metadata": {},
   "source": [
    "## Part 1"
   ]
  },
  {
   "cell_type": "markdown",
   "metadata": {},
   "source": [
    "Puzzle input:"
   ]
  },
  {
   "cell_type": "code",
   "execution_count": 6,
   "metadata": {},
   "outputs": [],
   "source": [
    "with open(\"input_files/day_19.txt\") as input_file:\n",
    "    input = input_file.read()"
   ]
  },
  {
   "cell_type": "markdown",
   "metadata": {},
   "source": [
    "Test input:"
   ]
  },
  {
   "cell_type": "code",
   "execution_count": 7,
   "metadata": {},
   "outputs": [],
   "source": [
    "# # Comment this cell to use the puzzle input instead of the test input\n",
    "# input = \"\"\"r, wr, b, g, bwu, rb, gb, br\n",
    "\n",
    "# brwrr\n",
    "# bggr\n",
    "# gbbr\n",
    "# rrbgbr\n",
    "# ubwu\n",
    "# bwurrg\n",
    "# brgr\n",
    "# bbrgwb\"\"\""
   ]
  },
  {
   "cell_type": "markdown",
   "metadata": {},
   "source": [
    "Parse the input:"
   ]
  },
  {
   "cell_type": "code",
   "execution_count": 8,
   "metadata": {},
   "outputs": [],
   "source": [
    "available_patterns, designs = input.split(\"\\n\\n\")\n",
    "available_patterns = available_patterns.split(\", \")\n",
    "designs = designs.split(\"\\n\")"
   ]
  },
  {
   "cell_type": "code",
   "execution_count": 9,
   "metadata": {},
   "outputs": [
    {
     "name": "stdout",
     "output_type": "stream",
     "text": [
      "There are 216 possible designs.\n"
     ]
    }
   ],
   "source": [
    "possible_designs = 0\n",
    "for design in designs:\n",
    "    candidate_patterns = []\n",
    "    for pattern in available_patterns:\n",
    "        if pattern in design:\n",
    "            candidate_patterns.append(pattern)\n",
    "    \n",
    "    pos = 0\n",
    "    length = 1\n",
    "    reconstructed_pattern = []\n",
    "    while True:\n",
    "        chunk = design[pos:pos + length]\n",
    "        if chunk in candidate_patterns:\n",
    "            pos += len(chunk)\n",
    "            length = 1\n",
    "            reconstructed_pattern.append(chunk)\n",
    "        else:\n",
    "            length += 1\n",
    "        \n",
    "        if \"\".join(reconstructed_pattern) == design:\n",
    "            possible_designs += 1\n",
    "            break\n",
    "        \n",
    "        if length > len(design) - pos:\n",
    "            if pos == 0:\n",
    "                break\n",
    "            else:\n",
    "                pos -= len(reconstructed_pattern[-1])\n",
    "                length = 1 + len(reconstructed_pattern[-1])\n",
    "                reconstructed_pattern.pop()\n",
    "            \n",
    "print(f\"There are {possible_designs} possible designs.\")"
   ]
  }
 ],
 "metadata": {
  "kernelspec": {
   "display_name": "data_science",
   "language": "python",
   "name": "python3"
  },
  "language_info": {
   "codemirror_mode": {
    "name": "ipython",
    "version": 3
   },
   "file_extension": ".py",
   "mimetype": "text/x-python",
   "name": "python",
   "nbconvert_exporter": "python",
   "pygments_lexer": "ipython3",
   "version": "3.12.3"
  }
 },
 "nbformat": 4,
 "nbformat_minor": 2
}
