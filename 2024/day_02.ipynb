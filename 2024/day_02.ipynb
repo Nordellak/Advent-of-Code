{
 "cells": [
  {
   "cell_type": "markdown",
   "metadata": {},
   "source": [
    "# Day 2\n",
    "Find the description of the problem [here](https://adventofcode.com/2024/day/2)!"
   ]
  },
  {
   "cell_type": "markdown",
   "metadata": {},
   "source": [
    "## Part 1"
   ]
  },
  {
   "cell_type": "markdown",
   "metadata": {},
   "source": [
    "Puzzle input:"
   ]
  },
  {
   "cell_type": "code",
   "execution_count": 7,
   "metadata": {},
   "outputs": [],
   "source": [
    "with open(\"input_files/day_02.txt\") as input_file:\n",
    "    input = input_file.read()"
   ]
  },
  {
   "cell_type": "markdown",
   "metadata": {},
   "source": [
    "Test input:"
   ]
  },
  {
   "cell_type": "code",
   "execution_count": 8,
   "metadata": {},
   "outputs": [],
   "source": [
    "# # Comment this cell to use the puzzle input instead of the test input\n",
    "# input = \"\"\"7 6 4 2 1\n",
    "# 1 2 7 8 9\n",
    "# 9 7 6 2 1\n",
    "# 1 3 2 4 5\n",
    "# 8 6 4 4 1\n",
    "# 1 3 6 7 9\"\"\""
   ]
  },
  {
   "cell_type": "markdown",
   "metadata": {},
   "source": [
    "Parse input."
   ]
  },
  {
   "cell_type": "code",
   "execution_count": 9,
   "metadata": {},
   "outputs": [],
   "source": [
    "reports = input.split(\"\\n\")\n",
    "data = [report.split() for report in reports]\n",
    "data = [[int(level) for level in report] for report in data]"
   ]
  },
  {
   "cell_type": "markdown",
   "metadata": {},
   "source": [
    "Function to evaluate if a given level is safe."
   ]
  },
  {
   "cell_type": "code",
   "execution_count": 10,
   "metadata": {},
   "outputs": [],
   "source": [
    "def is_safe(report):\n",
    "    differences = []\n",
    "    for level in range(1, len(report)):\n",
    "        differences.append(report[level] - report[level - 1])\n",
    "    \n",
    "    for current_difference in differences:\n",
    "        if abs(current_difference) < 1 or abs(current_difference) > 3:\n",
    "            return False\n",
    "        if differences[0] * current_difference < 0:\n",
    "            return False\n",
    "        \n",
    "    return True"
   ]
  },
  {
   "cell_type": "markdown",
   "metadata": {},
   "source": [
    "Count how many reports are safe."
   ]
  },
  {
   "cell_type": "code",
   "execution_count": 11,
   "metadata": {},
   "outputs": [
    {
     "name": "stdout",
     "output_type": "stream",
     "text": [
      "Number of safe reports: 269\n"
     ]
    }
   ],
   "source": [
    "safe_reports = 0\n",
    "for report in data:\n",
    "    safe_reports += is_safe(report)\n",
    "print(f\"Number of safe reports: {safe_reports}\")"
   ]
  },
  {
   "cell_type": "markdown",
   "metadata": {},
   "source": [
    "## Part 2"
   ]
  },
  {
   "cell_type": "markdown",
   "metadata": {},
   "source": [
    "Add the possibility to remove one level from each report to check if the report is safe."
   ]
  },
  {
   "cell_type": "code",
   "execution_count": 12,
   "metadata": {},
   "outputs": [
    {
     "name": "stdout",
     "output_type": "stream",
     "text": [
      "Number of safe reports using Problem Dampener: 337\n"
     ]
    }
   ],
   "source": [
    "safe_reports = 0\n",
    "for report in data:\n",
    "    if is_safe(report):\n",
    "        safe_reports += 1\n",
    "    else:\n",
    "        for index, level in enumerate(report):\n",
    "            fixed_report = report.copy()\n",
    "            fixed_report.pop(index)\n",
    "            if is_safe(fixed_report):\n",
    "                safe_reports += 1\n",
    "                break\n",
    "print(f\"Number of safe reports using Problem Dampener: {safe_reports}\")"
   ]
  }
 ],
 "metadata": {
  "kernelspec": {
   "display_name": "data_science",
   "language": "python",
   "name": "python3"
  },
  "language_info": {
   "codemirror_mode": {
    "name": "ipython",
    "version": 3
   },
   "file_extension": ".py",
   "mimetype": "text/x-python",
   "name": "python",
   "nbconvert_exporter": "python",
   "pygments_lexer": "ipython3",
   "version": "3.12.3"
  }
 },
 "nbformat": 4,
 "nbformat_minor": 2
}
