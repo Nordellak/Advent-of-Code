{
 "cells": [
  {
   "cell_type": "markdown",
   "metadata": {},
   "source": [
    "# Day 16\n",
    "Find the description of the problem [here](https://adventofcode.com/2024/day/16)!"
   ]
  },
  {
   "cell_type": "markdown",
   "metadata": {},
   "source": [
    "## Part 1"
   ]
  },
  {
   "cell_type": "markdown",
   "metadata": {},
   "source": [
    "Puzzle input:"
   ]
  },
  {
   "cell_type": "code",
   "execution_count": 126,
   "metadata": {},
   "outputs": [],
   "source": [
    "with open(\"input_files/day_16.txt\") as input_file:\n",
    "    input = input_file.read()"
   ]
  },
  {
   "cell_type": "markdown",
   "metadata": {},
   "source": [
    "Test input:"
   ]
  },
  {
   "cell_type": "code",
   "execution_count": 127,
   "metadata": {},
   "outputs": [],
   "source": [
    "# # Comment this cell to use the puzzle input instead of the test input\n",
    "# input = \"\"\"#################\n",
    "# #...#...#...#..E#\n",
    "# #.#.#.#.#.#.#.#.#\n",
    "# #.#.#.#...#...#.#\n",
    "# #.#.#.#.###.#.#.#\n",
    "# #...#.#.#.....#.#\n",
    "# #.#.#.#.#.#####.#\n",
    "# #.#...#.#.#.....#\n",
    "# #.#.#####.#.###.#\n",
    "# #.#.#.......#...#\n",
    "# #.#.###.#####.###\n",
    "# #.#.#...#.....#.#\n",
    "# #.#.#.#####.###.#\n",
    "# #.#.#.........#.#\n",
    "# #.#.#.#########.#\n",
    "# #S#.............#\n",
    "# #################\"\"\""
   ]
  },
  {
   "cell_type": "markdown",
   "metadata": {},
   "source": [
    "Parse the input:"
   ]
  },
  {
   "cell_type": "code",
   "execution_count": 128,
   "metadata": {},
   "outputs": [],
   "source": [
    "walkable_tiles = set()\n",
    "for y, line in enumerate(input.split(\"\\n\")):\n",
    "    for x, tile in enumerate(line):\n",
    "        if tile == \".\":\n",
    "            walkable_tiles.add((x, y))\n",
    "        elif tile == \"S\":\n",
    "            starting_reindeer = (x, y)\n",
    "        elif tile == \"E\":\n",
    "            end = (x, y)\n",
    "            walkable_tiles.add((x, y))"
   ]
  },
  {
   "cell_type": "code",
   "execution_count": 129,
   "metadata": {},
   "outputs": [
    {
     "name": "stdout",
     "output_type": "stream",
     "text": [
      "The minimum score is 95444.\n"
     ]
    }
   ],
   "source": [
    "possible_paths = [(starting_reindeer, None, (1, 0))]  # Storing tuples with (position, previous_position, direction)\n",
    "already_walked = set()  # Keep list of already walked tiles to not step on them again\n",
    "score = {(starting_reindeer, (1, 0)): 0}  # Store the score to reach each tile\n",
    "directions = [(1, 0), (-1, 0), (0, 1), (0, -1)]\n",
    "final_scores = []\n",
    "\n",
    "while possible_paths:\n",
    "    # Start always with the position that has the lowest score and remove it from the todo list\n",
    "    position, previous_position, direction = min(possible_paths, key=lambda x: score[(x[0], x[2])])\n",
    "    possible_paths.remove((position, previous_position, direction))\n",
    "    \n",
    "    # Check if we're at destination\n",
    "    if position == end:\n",
    "        final_scores.append(score[(position, direction)])\n",
    "\n",
    "    # Don't step on already walked position-direction pairs\n",
    "    if (position, direction) in already_walked:\n",
    "        continue\n",
    "    already_walked.add((position, direction))\n",
    "\n",
    "    # Add all new possible paths to the list of possible paths\n",
    "    for new_direction in directions:\n",
    "        if new_direction == (-direction[0], -direction[1]):  # Don't go back\n",
    "            continue\n",
    "\n",
    "        new_position = (position[0] + new_direction[0], position[1] + new_direction[1])\n",
    "        if new_position not in walkable_tiles:  # Don't hit walls\n",
    "            continue\n",
    "\n",
    "        # Add score\n",
    "        new_score = score[(position, direction)] + 1\n",
    "        if new_direction != direction:\n",
    "            new_score += 1000\n",
    "\n",
    "        # Add new position to todo list\n",
    "        possible_paths.append((new_position, position, new_direction))\n",
    "        # Track score to reach this position\n",
    "        \n",
    "        if (new_position, new_direction) not in score or new_score < score[(new_position, new_direction)]:\n",
    "            score[(new_position, new_direction)] = new_score\n",
    "\n",
    "print(f\"The minimum score is {min(final_scores)}.\")"
   ]
  },
  {
   "cell_type": "markdown",
   "metadata": {},
   "source": [
    "## Part 2"
   ]
  },
  {
   "cell_type": "code",
   "execution_count": null,
   "metadata": {},
   "outputs": [
    {
     "name": "stdout",
     "output_type": "stream",
     "text": [
      "513\n"
     ]
    }
   ],
   "source": [
    "possible_paths = [(starting_reindeer, None, (1, 0))]  # Storing tuples with (position, previous_position, direction)\n",
    "score = {(starting_reindeer, (1, 0)): 0}  # Store the score to reach each tile\n",
    "directions = [(1, 0), (-1, 0), (0, 1), (0, -1)]\n",
    "paths_dict = {(starting_reindeer, (1, 0)): [[starting_reindeer]]}  # Track all possible paths ending in a given tile\n",
    "final_scores = []\n",
    "\n",
    "while possible_paths:\n",
    "    # Start always with the position that has the lowest score and remove it from the todo list\n",
    "    position, previous_position, direction = min(possible_paths, key=lambda x: score[(x[0], x[2])])\n",
    "    possible_paths.remove((position, previous_position, direction))\n",
    "    \n",
    "    # Check if we're at destination\n",
    "    if position == end:\n",
    "        final_scores.append(score[(position, direction)])\n",
    "\n",
    "    # Add all new possible paths to the list of possible paths\n",
    "    for new_direction in directions:\n",
    "        if new_direction == (-direction[0], -direction[1]):  # Don't go back\n",
    "            continue\n",
    "        \n",
    "        new_position = (position[0] + new_direction[0], position[1] + new_direction[1])\n",
    "        if new_position not in walkable_tiles:  # Don't hit walls\n",
    "            continue\n",
    "\n",
    "        # Add score\n",
    "        new_score = score[(position, direction)] + 1\n",
    "        if new_direction != direction:\n",
    "            new_score += 1000\n",
    "\n",
    "        if (new_position, new_direction) not in score:\n",
    "            # If this position hasn't ever been visited, add all the paths to the new position\n",
    "            score[(new_position, new_direction)] = new_score\n",
    "            possible_paths.append((new_position, position, new_direction))\n",
    "            paths_dict[(new_position, new_direction)] = [path + [new_position] for path in paths_dict[(position, direction)]]\n",
    "        elif new_score == score[(new_position, new_direction)]:\n",
    "            # If it has already been visited, only keep track if the score is the same (different equal paths to reach the same point)\n",
    "            paths_dict[(new_position, new_direction)].extend(path + [new_position] for path in paths_dict[(position, direction)])\n",
    "\n",
    "min_score = min(final_scores)\n",
    "unique_tiles_walked = set()\n",
    "for index, path in paths_dict.items():\n",
    "    if index[0] == end and score[index] == min_score:  # Filter only paths that end on the end position with the minimum score\n",
    "        for line in path:\n",
    "            for tile in line:\n",
    "                unique_tiles_walked.add(tile)\n",
    "print(len(unique_tiles_walked))"
   ]
  }
 ],
 "metadata": {
  "kernelspec": {
   "display_name": "data_science",
   "language": "python",
   "name": "python3"
  },
  "language_info": {
   "codemirror_mode": {
    "name": "ipython",
    "version": 3
   },
   "file_extension": ".py",
   "mimetype": "text/x-python",
   "name": "python",
   "nbconvert_exporter": "python",
   "pygments_lexer": "ipython3",
   "version": "3.12.3"
  }
 },
 "nbformat": 4,
 "nbformat_minor": 2
}
