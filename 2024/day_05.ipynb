{
 "cells": [
  {
   "cell_type": "markdown",
   "metadata": {},
   "source": [
    "# Day 5\n",
    "Find the description of the problem [here](https://adventofcode.com/2024/day/5)!"
   ]
  },
  {
   "cell_type": "markdown",
   "metadata": {},
   "source": [
    "## Part 1"
   ]
  },
  {
   "cell_type": "markdown",
   "metadata": {},
   "source": [
    "Puzzle input:"
   ]
  },
  {
   "cell_type": "code",
   "execution_count": 414,
   "metadata": {},
   "outputs": [],
   "source": [
    "with open(\"input_files/day_05.txt\") as input_file:\n",
    "    input = input_file.read()"
   ]
  },
  {
   "cell_type": "markdown",
   "metadata": {},
   "source": [
    "Test input:"
   ]
  },
  {
   "cell_type": "code",
   "execution_count": 415,
   "metadata": {},
   "outputs": [],
   "source": [
    "# # Comment this cell to use the puzzle input instead of the test input\n",
    "# input = \"\"\"47|53\n",
    "# 97|13\n",
    "# 97|61\n",
    "# 97|47\n",
    "# 75|29\n",
    "# 61|13\n",
    "# 75|53\n",
    "# 29|13\n",
    "# 97|29\n",
    "# 53|29\n",
    "# 61|53\n",
    "# 97|53\n",
    "# 61|29\n",
    "# 47|13\n",
    "# 75|47\n",
    "# 97|75\n",
    "# 47|61\n",
    "# 75|61\n",
    "# 47|29\n",
    "# 75|13\n",
    "# 53|13\n",
    "\n",
    "# 75,47,61,53,29\n",
    "# 97,61,53,29,13\n",
    "# 75,29,13\n",
    "# 75,97,47,61,53\n",
    "# 61,13,29\n",
    "# 97,13,75,29,47\"\"\""
   ]
  },
  {
   "cell_type": "markdown",
   "metadata": {},
   "source": [
    "Parse the input:"
   ]
  },
  {
   "cell_type": "code",
   "execution_count": 416,
   "metadata": {},
   "outputs": [],
   "source": [
    "page_ordering_rules, update_pages = input.split(\"\\n\\n\")\n",
    "page_ordering_rules = [tuple(map(int, rule.split(\"|\"))) for rule in page_ordering_rules.split(\"\\n\")]\n",
    "update_pages = [list(map(int, update.split(\",\"))) for update in update_pages.split(\"\\n\")]"
   ]
  },
  {
   "cell_type": "markdown",
   "metadata": {},
   "source": [
    "Function to check if a given update follows the rules."
   ]
  },
  {
   "cell_type": "code",
   "execution_count": 417,
   "metadata": {},
   "outputs": [],
   "source": [
    "def check_update(update, rules):\n",
    "    for rule in rules:\n",
    "        if rule[0] not in update or rule[1] not in update:\n",
    "            continue\n",
    "        if update.index(rule[0]) > update.index(rule[1]):\n",
    "            return False\n",
    "    return True"
   ]
  },
  {
   "cell_type": "markdown",
   "metadata": {},
   "source": [
    "And a quick helper function to return the middle value."
   ]
  },
  {
   "cell_type": "code",
   "execution_count": 418,
   "metadata": {},
   "outputs": [],
   "source": [
    "def get_middle_value(update):\n",
    "    return update[int(len(update) / 2)]"
   ]
  },
  {
   "cell_type": "markdown",
   "metadata": {},
   "source": [
    "The solution to the first part is quite simple using this approach."
   ]
  },
  {
   "cell_type": "code",
   "execution_count": 419,
   "metadata": {},
   "outputs": [
    {
     "name": "stdout",
     "output_type": "stream",
     "text": [
      "The result is 4578\n"
     ]
    }
   ],
   "source": [
    "result = 0\n",
    "for update in update_pages:\n",
    "    if check_update(update, page_ordering_rules):\n",
    "        result += get_middle_value(update)\n",
    "print(f\"The result is {result}\")\n"
   ]
  },
  {
   "cell_type": "markdown",
   "metadata": {},
   "source": [
    "## Part 2"
   ]
  },
  {
   "cell_type": "markdown",
   "metadata": {},
   "source": [
    "Defining a function to get only the rules that apply to a given update."
   ]
  },
  {
   "cell_type": "code",
   "execution_count": 420,
   "metadata": {},
   "outputs": [],
   "source": [
    "def get_applying_rules(update, rules):\n",
    "    applying_rules = []\n",
    "    for rule in rules:\n",
    "        if rule[0] in update and rule[1] in update:\n",
    "            applying_rules.append(rule)\n",
    "    return applying_rules"
   ]
  },
  {
   "cell_type": "markdown",
   "metadata": {},
   "source": [
    "And this one was difficult, to reorder the elements in an update."
   ]
  },
  {
   "cell_type": "code",
   "execution_count": 421,
   "metadata": {},
   "outputs": [],
   "source": [
    "def reorder_update(update, all_rules):\n",
    "    rules = get_applying_rules(update, all_rules)\n",
    "    reordered_update = [update[0]]\n",
    "    for digit in update[1:]:\n",
    "        for insert_position in range(len(reordered_update) + 1):\n",
    "            attempt = reordered_update.copy()\n",
    "            attempt.insert(insert_position, digit)\n",
    "            if check_update(attempt, rules):\n",
    "                reordered_update = attempt.copy()\n",
    "                break\n",
    "\n",
    "    return reordered_update"
   ]
  },
  {
   "cell_type": "markdown",
   "metadata": {},
   "source": [
    "The second part was quite more difficult than the first one!"
   ]
  },
  {
   "cell_type": "code",
   "execution_count": 422,
   "metadata": {},
   "outputs": [
    {
     "name": "stdout",
     "output_type": "stream",
     "text": [
      "The result of the ordered updates is 6179\n"
     ]
    }
   ],
   "source": [
    "result = 0\n",
    "for update in update_pages:\n",
    "    if not check_update(update, page_ordering_rules):\n",
    "        reordered_update = reorder_update(update, page_ordering_rules)\n",
    "        result += get_middle_value(reordered_update)\n",
    "print(f\"The result of the ordered updates is {result}\")"
   ]
  }
 ],
 "metadata": {
  "kernelspec": {
   "display_name": "data_science",
   "language": "python",
   "name": "python3"
  },
  "language_info": {
   "codemirror_mode": {
    "name": "ipython",
    "version": 3
   },
   "file_extension": ".py",
   "mimetype": "text/x-python",
   "name": "python",
   "nbconvert_exporter": "python",
   "pygments_lexer": "ipython3",
   "version": "3.12.3"
  }
 },
 "nbformat": 4,
 "nbformat_minor": 2
}
