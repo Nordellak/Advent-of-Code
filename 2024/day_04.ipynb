{
 "cells": [
  {
   "cell_type": "markdown",
   "metadata": {},
   "source": [
    "# Day 4\n",
    "Find the description of the problem [here](https://adventofcode.com/2024/day/4)!"
   ]
  },
  {
   "cell_type": "markdown",
   "metadata": {},
   "source": [
    "## Part 1"
   ]
  },
  {
   "cell_type": "markdown",
   "metadata": {},
   "source": [
    "Puzzle input:"
   ]
  },
  {
   "cell_type": "code",
   "execution_count": 100,
   "metadata": {},
   "outputs": [],
   "source": [
    "with open(\"input_files/day_04.txt\") as input_file:\n",
    "    input = input_file.read()"
   ]
  },
  {
   "cell_type": "markdown",
   "metadata": {},
   "source": [
    "Test input:"
   ]
  },
  {
   "cell_type": "code",
   "execution_count": 101,
   "metadata": {},
   "outputs": [],
   "source": [
    "# # Comment this cell to use the puzzle input instead of the test input\n",
    "# input = \"\"\"MMMSXXMASM\n",
    "# MSAMXMSMSA\n",
    "# AMXSXMAAMM\n",
    "# MSAMASMSMX\n",
    "# XMASAMXAMM\n",
    "# XXAMMXXAMA\n",
    "# SMSMSASXSS\n",
    "# SAXAMASAAA\n",
    "# MAMMMXMMMM\n",
    "# MXMXAXMASX\"\"\""
   ]
  },
  {
   "cell_type": "markdown",
   "metadata": {},
   "source": [
    "Parse the input."
   ]
  },
  {
   "cell_type": "code",
   "execution_count": 102,
   "metadata": {},
   "outputs": [],
   "source": [
    "word_search = [list(line) for line in input.split(\"\\n\")]"
   ]
  },
  {
   "cell_type": "code",
   "execution_count": 103,
   "metadata": {},
   "outputs": [
    {
     "name": "stdout",
     "output_type": "stream",
     "text": [
      "XMAS appears 2514 times.\n"
     ]
    }
   ],
   "source": [
    "word = \"XMAS\"\n",
    "reversed_word = \"SAMX\"\n",
    "\n",
    "xmas_appearances = 0\n",
    "for i in range(len(word_search)):\n",
    "    for j in range(len(word_search[0])):\n",
    "        possible_word_horizontal = \"\"\n",
    "        possible_word_vertical = \"\"\n",
    "        possible_word_diagonal = \"\"\n",
    "        possible_word_diagonal_2 = \"\"\n",
    "        if j <= len(word_search) - len(word):\n",
    "            possible_word_horizontal = \"\".join([word_search[i][j + char] for char in range(len(word))])\n",
    "        if i <= len(word_search) - len(word):\n",
    "            possible_word_vertical = \"\".join([word_search[i + char][j] for char in range(len(word))])\n",
    "        if j <= len(word_search) - len(word) and i <= len(word_search) - len(word):\n",
    "            possible_word_diagonal = \"\".join([word_search[i + char][j + char] for char in range(len(word))])\n",
    "            possible_word_diagonal_2 = \"\".join([word_search[i + len(word) - char - 1][j + char] for char in range(len(word))])\n",
    "\n",
    "        if possible_word_horizontal == word or possible_word_horizontal == reversed_word:\n",
    "            xmas_appearances += 1\n",
    "        if possible_word_vertical == word or possible_word_vertical == reversed_word:\n",
    "            xmas_appearances += 1\n",
    "        if possible_word_diagonal == word or possible_word_diagonal == reversed_word:\n",
    "            xmas_appearances += 1\n",
    "        if possible_word_diagonal_2 == word or possible_word_diagonal_2 == reversed_word:\n",
    "            xmas_appearances += 1\n",
    "\n",
    "print(f\"XMAS appears {xmas_appearances} times.\")"
   ]
  },
  {
   "cell_type": "markdown",
   "metadata": {},
   "source": [
    "## Part 2"
   ]
  },
  {
   "cell_type": "markdown",
   "metadata": {},
   "source": [
    "Luckily my way to implement the two diagonals made it very easy to do this part."
   ]
  },
  {
   "cell_type": "code",
   "execution_count": 104,
   "metadata": {},
   "outputs": [
    {
     "name": "stdout",
     "output_type": "stream",
     "text": [
      "X-MAS appears 1888 times.\n"
     ]
    }
   ],
   "source": [
    "word = \"MAS\"\n",
    "reversed_word = \"SAM\"\n",
    "\n",
    "xmas_appearances = 0\n",
    "for i in range(len(word_search) - len(word) + 1):\n",
    "    for j in range(len(word_search[0]) - len(word) + 1):\n",
    "        possible_word_diagonal = \"\".join([word_search[i + char][j + char] for char in range(len(word))])\n",
    "        possible_word_diagonal_2 = \"\".join([word_search[i + len(word) - char - 1][j + char] for char in range(len(word))])\n",
    "\n",
    "        if (possible_word_diagonal == word or possible_word_diagonal == reversed_word) and (possible_word_diagonal_2 == word or possible_word_diagonal_2 == reversed_word):\n",
    "            xmas_appearances += 1\n",
    "\n",
    "print(f\"X-MAS appears {xmas_appearances} times.\")"
   ]
  }
 ],
 "metadata": {
  "kernelspec": {
   "display_name": "data_science",
   "language": "python",
   "name": "python3"
  },
  "language_info": {
   "codemirror_mode": {
    "name": "ipython",
    "version": 3
   },
   "file_extension": ".py",
   "mimetype": "text/x-python",
   "name": "python",
   "nbconvert_exporter": "python",
   "pygments_lexer": "ipython3",
   "version": "3.12.3"
  }
 },
 "nbformat": 4,
 "nbformat_minor": 2
}
