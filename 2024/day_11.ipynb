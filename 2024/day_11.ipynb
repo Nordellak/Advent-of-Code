{
 "cells": [
  {
   "cell_type": "markdown",
   "metadata": {},
   "source": [
    "# Day 11\n",
    "Find the description of the problem [here](https://adventofcode.com/2024/day/11)!"
   ]
  },
  {
   "cell_type": "markdown",
   "metadata": {},
   "source": [
    "## Part 1"
   ]
  },
  {
   "cell_type": "markdown",
   "metadata": {},
   "source": [
    "Puzzle input:"
   ]
  },
  {
   "cell_type": "code",
   "execution_count": 85,
   "metadata": {},
   "outputs": [],
   "source": [
    "with open(\"input_files/day_11.txt\") as input_file:\n",
    "    input = input_file.read()"
   ]
  },
  {
   "cell_type": "markdown",
   "metadata": {},
   "source": [
    "Test input:"
   ]
  },
  {
   "cell_type": "code",
   "execution_count": 86,
   "metadata": {},
   "outputs": [],
   "source": [
    "# # Comment this cell to use the puzzle input instead of the test input\n",
    "# input = \"0 0\""
   ]
  },
  {
   "cell_type": "markdown",
   "metadata": {},
   "source": [
    "Parse the input:"
   ]
  },
  {
   "cell_type": "code",
   "execution_count": 87,
   "metadata": {},
   "outputs": [],
   "source": [
    "initial_numbers = list(map(int, input.split(\" \")))"
   ]
  },
  {
   "cell_type": "markdown",
   "metadata": {},
   "source": [
    "Part 1 can be brute forced with no problem..."
   ]
  },
  {
   "cell_type": "code",
   "execution_count": 88,
   "metadata": {},
   "outputs": [
    {
     "name": "stdout",
     "output_type": "stream",
     "text": [
      "After 25 blinks there are 194557 stones.\n"
     ]
    }
   ],
   "source": [
    "blinks = 25\n",
    "numbers = initial_numbers.copy()\n",
    "\n",
    "for blink in range(blinks):\n",
    "    new_numbers = []\n",
    "    for number in numbers:\n",
    "        number_str = str(number)\n",
    "        if number == 0:\n",
    "            new_numbers.append(1)\n",
    "        elif len(number_str) % 2 == 0:\n",
    "            new_numbers.append(int(number_str[:len(number_str) // 2]))\n",
    "            new_numbers.append(int(number_str[len(number_str) // 2:]))\n",
    "        else:\n",
    "            new_numbers.append(number * 2024)  \n",
    "    numbers = new_numbers\n",
    "    \n",
    "print(f\"After {blinks} blinks there are {len(numbers)} stones.\")"
   ]
  },
  {
   "cell_type": "markdown",
   "metadata": {},
   "source": [
    "## Part 2"
   ]
  },
  {
   "cell_type": "markdown",
   "metadata": {},
   "source": [
    "...but part 2 is another story! Doing a rough calculation, given that with each blink the stone count increases by 50% on average, after 75 blinks it would increase  by x16.000.000.000.000 times (obviously a list this size doesn't fit into the computer's memory, unless you somehow have some petabyte RAM stick lying around).\n",
    "\n",
    "After many hours of thinking, I reached the following approach: instead of storing the entire list, use a dictionary where the keys are the numbers in the stones, and the value is the number of stones with that value. Each number appears many, many times, so this simplifies the computation by a great amount!"
   ]
  },
  {
   "cell_type": "code",
   "execution_count": 89,
   "metadata": {},
   "outputs": [
    {
     "name": "stdout",
     "output_type": "stream",
     "text": [
      "After 75 blinks there are 231532558973909 stones.\n"
     ]
    }
   ],
   "source": [
    "blinks = 75\n",
    "numbers = {number: initial_numbers.count(number) for number in initial_numbers}\n",
    "\n",
    "for blink in range(blinks):\n",
    "    new_numbers = {}\n",
    "    for number, count in numbers.items():\n",
    "        number_str = str(number)\n",
    "        if number == 0:\n",
    "            if 1 in new_numbers:\n",
    "                new_numbers[1] += count\n",
    "            else:\n",
    "                new_numbers[1] = count\n",
    "        elif len(number_str) % 2 == 0:\n",
    "            value_1 = int(number_str[:len(number_str) // 2])\n",
    "            if value_1 in new_numbers:\n",
    "                new_numbers[value_1] += count\n",
    "            else:\n",
    "                new_numbers[value_1] = count\n",
    "            value_2 = int(number_str[len(number_str) // 2:])\n",
    "            if value_2 in new_numbers:\n",
    "                new_numbers[value_2] += count\n",
    "            else:\n",
    "                new_numbers[value_2] = count\n",
    "        else:\n",
    "            value = number * 2024\n",
    "            if value in new_numbers:\n",
    "                new_numbers[value] += count\n",
    "            else:\n",
    "                new_numbers[value] = count\n",
    "    numbers = new_numbers\n",
    "\n",
    "print(f\"After {blinks} blinks there are {sum(numbers.values())} stones.\")"
   ]
  }
 ],
 "metadata": {
  "kernelspec": {
   "display_name": "data_science",
   "language": "python",
   "name": "python3"
  },
  "language_info": {
   "codemirror_mode": {
    "name": "ipython",
    "version": 3
   },
   "file_extension": ".py",
   "mimetype": "text/x-python",
   "name": "python",
   "nbconvert_exporter": "python",
   "pygments_lexer": "ipython3",
   "version": "3.12.3"
  }
 },
 "nbformat": 4,
 "nbformat_minor": 2
}
