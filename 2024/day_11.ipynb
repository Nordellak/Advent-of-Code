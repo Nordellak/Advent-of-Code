{
 "cells": [
  {
   "cell_type": "markdown",
   "metadata": {},
   "source": [
    "# Day 11\n",
    "Find the description of the problem [here](https://adventofcode.com/2024/day/11)!"
   ]
  },
  {
   "cell_type": "markdown",
   "metadata": {},
   "source": [
    "## Part 1"
   ]
  },
  {
   "cell_type": "markdown",
   "metadata": {},
   "source": [
    "Puzzle input:"
   ]
  },
  {
   "cell_type": "code",
   "execution_count": 41,
   "metadata": {},
   "outputs": [],
   "source": [
    "with open(\"input_files/day_11.txt\") as input_file:\n",
    "    input = input_file.read()"
   ]
  },
  {
   "cell_type": "markdown",
   "metadata": {},
   "source": [
    "Test input:"
   ]
  },
  {
   "cell_type": "code",
   "execution_count": 42,
   "metadata": {},
   "outputs": [],
   "source": [
    "# # Comment this cell to use the puzzle input instead of the test input\n",
    "# input = \"0\""
   ]
  },
  {
   "cell_type": "markdown",
   "metadata": {},
   "source": [
    "Parse the input:"
   ]
  },
  {
   "cell_type": "code",
   "execution_count": 43,
   "metadata": {},
   "outputs": [],
   "source": [
    "initial_numbers = list(map(int, input.split(\" \")))"
   ]
  },
  {
   "cell_type": "code",
   "execution_count": 44,
   "metadata": {},
   "outputs": [
    {
     "name": "stdout",
     "output_type": "stream",
     "text": [
      "After 25 there are 194557 blinks\n"
     ]
    }
   ],
   "source": [
    "blinks = 25\n",
    "numbers = initial_numbers.copy()\n",
    "\n",
    "for blink in range(blinks):\n",
    "    new_numbers = []\n",
    "    for number in numbers:\n",
    "        number_str = str(number)\n",
    "        if number == 0:\n",
    "            new_numbers.append(1)\n",
    "        elif len(number_str) % 2 == 0:\n",
    "            new_numbers.append(int(number_str[:len(number_str) // 2]))\n",
    "            new_numbers.append(int(number_str[len(number_str) // 2:]))\n",
    "        else:\n",
    "            new_numbers.append(number * 2024)  \n",
    "    numbers = new_numbers\n",
    "print(f\"After {blinks} there are {len(numbers)} blinks\")"
   ]
  }
 ],
 "metadata": {
  "kernelspec": {
   "display_name": "data_science",
   "language": "python",
   "name": "python3"
  },
  "language_info": {
   "codemirror_mode": {
    "name": "ipython",
    "version": 3
   },
   "file_extension": ".py",
   "mimetype": "text/x-python",
   "name": "python",
   "nbconvert_exporter": "python",
   "pygments_lexer": "ipython3",
   "version": "3.12.3"
  }
 },
 "nbformat": 4,
 "nbformat_minor": 2
}
