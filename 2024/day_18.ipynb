{
 "cells": [
  {
   "cell_type": "markdown",
   "metadata": {},
   "source": [
    "# Day 18\n",
    "Find the description of the problem [here](https://adventofcode.com/2024/day/18)!"
   ]
  },
  {
   "cell_type": "markdown",
   "metadata": {},
   "source": [
    "## Part 1"
   ]
  },
  {
   "cell_type": "markdown",
   "metadata": {},
   "source": [
    "Puzzle input:"
   ]
  },
  {
   "cell_type": "code",
   "execution_count": 135,
   "metadata": {},
   "outputs": [],
   "source": [
    "with open(\"input_files/day_18.txt\") as input_file:\n",
    "    input = input_file.read()\n",
    "width = 71\n",
    "height = 71\n",
    "num_corrupted_bytes = 1024"
   ]
  },
  {
   "cell_type": "markdown",
   "metadata": {},
   "source": [
    "Test input:"
   ]
  },
  {
   "cell_type": "code",
   "execution_count": 136,
   "metadata": {},
   "outputs": [],
   "source": [
    "# # Comment this cell to use the puzzle input instead of the test input\n",
    "# input = \"\"\"5,4\n",
    "# 4,2\n",
    "# 4,5\n",
    "# 3,0\n",
    "# 2,1\n",
    "# 6,3\n",
    "# 2,4\n",
    "# 1,5\n",
    "# 0,6\n",
    "# 3,3\n",
    "# 2,6\n",
    "# 5,1\n",
    "# 1,2\n",
    "# 5,5\n",
    "# 2,5\n",
    "# 6,5\n",
    "# 1,4\n",
    "# 0,4\n",
    "# 6,4\n",
    "# 1,1\n",
    "# 6,1\n",
    "# 1,0\n",
    "# 0,5\n",
    "# 1,6\n",
    "# 2,0\"\"\"\n",
    "# width = 7\n",
    "# height = 7\n",
    "# num_corrupted_bytes = 12"
   ]
  },
  {
   "cell_type": "markdown",
   "metadata": {},
   "source": [
    "Parse the input:"
   ]
  },
  {
   "cell_type": "code",
   "execution_count": 137,
   "metadata": {},
   "outputs": [],
   "source": [
    "byte_list = [tuple(map(int, line.split(\",\"))) for line in input.split(\"\\n\")]"
   ]
  },
  {
   "cell_type": "markdown",
   "metadata": {},
   "source": [
    "Very easy problem after learning Djikstra algorithm for day 16!"
   ]
  },
  {
   "cell_type": "code",
   "execution_count": 138,
   "metadata": {},
   "outputs": [
    {
     "name": "stdout",
     "output_type": "stream",
     "text": [
      "The minimum number of steps after 1024 bytes have been corrupted is: 316\n"
     ]
    }
   ],
   "source": [
    "import heapq\n",
    "\n",
    "starting_position = (0, 0)\n",
    "exit_position = (width - 1, height - 1)\n",
    "\n",
    "corrupted_bytes = byte_list[:num_corrupted_bytes]\n",
    "\n",
    "# Create a priority queue (heap) where each element is a tuple with this format: (steps_taken, position, previous_position)\n",
    "positions = []\n",
    "heapq.heappush(positions, (0, starting_position, None))\n",
    "already_walked = set()\n",
    "directions = [(1, 0), (-1, 0), (0, 1), (0, -1)]\n",
    "min_steps = 0\n",
    "while positions:\n",
    "    # Get and remove from queue the next position with minimum steps taken\n",
    "    steps_taken, position, previous_position = heapq.heappop(positions)\n",
    "\n",
    "    # Exit condition\n",
    "    if position == exit_position:\n",
    "        min_steps = steps_taken\n",
    "        break\n",
    "    \n",
    "    # Don't go to already walked bytes\n",
    "    if position in already_walked:\n",
    "        continue\n",
    "    already_walked.add(position)\n",
    "\n",
    "    # Add each new possible direction to the queue\n",
    "    x, y = position\n",
    "    for direction in directions:\n",
    "        dx, dy = direction\n",
    "        if x + dx < 0 or x + dx >= width or y + dy < 0 or y + dy >= height or (x + dx, y + dy) in corrupted_bytes:\n",
    "            continue\n",
    "        heapq.heappush(positions, (steps_taken + 1, (x + dx, y + dy), position))\n",
    "\n",
    "print(f\"The minimum number of steps after {num_corrupted_bytes} bytes have been corrupted is: {min_steps}\")"
   ]
  },
  {
   "cell_type": "markdown",
   "metadata": {},
   "source": [
    "## Part 2"
   ]
  },
  {
   "cell_type": "markdown",
   "metadata": {},
   "source": [
    "The second part is a matter of finding at which added byte will the Djikstra algorithm stop finding a solution. To make it run faster, we begin will all the bytes fallen, as failed paths will finish before complete paths, and there are less viable spots."
   ]
  },
  {
   "cell_type": "code",
   "execution_count": 139,
   "metadata": {},
   "outputs": [
    {
     "name": "stdout",
     "output_type": "stream",
     "text": [
      "The byte coordinates that prevent the exit from being reachable is (45, 18).\n"
     ]
    }
   ],
   "source": [
    "for num in range(len(byte_list) - 1, -1, -1):\n",
    "    corrupted_bytes = byte_list[:num]\n",
    "\n",
    "    # Create a priority queue (heap) where each element is a tuple with this format: (steps_taken, position, previous_position)\n",
    "    positions = []\n",
    "    heapq.heappush(positions, (0, starting_position, None))\n",
    "    already_walked = set()\n",
    "    directions = [(1, 0), (-1, 0), (0, 1), (0, -1)]\n",
    "    min_steps = 0\n",
    "    while positions:\n",
    "        # Get and remove from queue the next position with minimum steps taken\n",
    "        steps_taken, position, previous_position = heapq.heappop(positions)\n",
    "\n",
    "        # Exit condition\n",
    "        if position == exit_position:\n",
    "            min_steps = steps_taken\n",
    "            break\n",
    "        \n",
    "        # Don't go to already walked bytes\n",
    "        if position in already_walked:\n",
    "            continue\n",
    "        already_walked.add(position)\n",
    "\n",
    "        # Add each new possible direction to the queue\n",
    "        x, y = position\n",
    "        for direction in directions:\n",
    "            dx, dy = direction\n",
    "            if x + dx < 0 or x + dx >= width or y + dy < 0 or y + dy >= height or (x + dx, y + dy) in corrupted_bytes:\n",
    "                continue\n",
    "            heapq.heappush(positions, (steps_taken + 1, (x + dx, y + dy), position))\n",
    "\n",
    "    if min_steps != 0:\n",
    "        print(f\"The byte coordinates that prevent the exit from being reachable is {byte_list[len(corrupted_bytes)]}.\")\n",
    "        break"
   ]
  }
 ],
 "metadata": {
  "kernelspec": {
   "display_name": "data_science",
   "language": "python",
   "name": "python3"
  },
  "language_info": {
   "codemirror_mode": {
    "name": "ipython",
    "version": 3
   },
   "file_extension": ".py",
   "mimetype": "text/x-python",
   "name": "python",
   "nbconvert_exporter": "python",
   "pygments_lexer": "ipython3",
   "version": "3.12.3"
  }
 },
 "nbformat": 4,
 "nbformat_minor": 2
}
