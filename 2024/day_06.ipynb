{
 "cells": [
  {
   "cell_type": "markdown",
   "metadata": {},
   "source": [
    "# Day 6\n",
    "Find the description of the problem [here](https://adventofcode.com/2024/day/6)!"
   ]
  },
  {
   "cell_type": "markdown",
   "metadata": {},
   "source": [
    "## Part 1"
   ]
  },
  {
   "cell_type": "markdown",
   "metadata": {},
   "source": [
    "Puzzle input:"
   ]
  },
  {
   "cell_type": "code",
   "execution_count": 456,
   "metadata": {},
   "outputs": [],
   "source": [
    "with open(\"input_files/day_06.txt\") as input_file:\n",
    "    input = input_file.read()"
   ]
  },
  {
   "cell_type": "markdown",
   "metadata": {},
   "source": [
    "Test input:"
   ]
  },
  {
   "cell_type": "code",
   "execution_count": 457,
   "metadata": {},
   "outputs": [],
   "source": [
    "# # Comment this cell to use the puzzle input instead of the test input\n",
    "# input = \"\"\"....#.....\n",
    "# .........#\n",
    "# ..........\n",
    "# ..#.......\n",
    "# .......#..\n",
    "# ..........\n",
    "# .#..^.....\n",
    "# ........#.\n",
    "# #.........\n",
    "# ......#...\"\"\""
   ]
  },
  {
   "cell_type": "markdown",
   "metadata": {},
   "source": [
    "Parse the input:"
   ]
  },
  {
   "cell_type": "code",
   "execution_count": 458,
   "metadata": {},
   "outputs": [],
   "source": [
    "lab_map = [list(line) for line in input.splitlines()]\n",
    "lab_width = len(lab_map[0])\n",
    "lab_height = len(lab_map)\n",
    "for j in range(lab_height):\n",
    "    for i in range(lab_width):\n",
    "        if lab_map[j][i] == \"^\":\n",
    "            starting_x = i\n",
    "            starting_y = j\n",
    "            starting_direction = (0, -1)\n",
    "            lab_map[j][i] = \"*\"\n",
    "starting_lab_map = [line[:] for line in lab_map]"
   ]
  },
  {
   "cell_type": "markdown",
   "metadata": {},
   "source": [
    "Logic to move the guard:"
   ]
  },
  {
   "cell_type": "code",
   "execution_count": 459,
   "metadata": {},
   "outputs": [],
   "source": [
    "def rotate_guard(direction):\n",
    "    if direction == (0, -1):\n",
    "        return (1, 0)\n",
    "    if direction == (1, 0):\n",
    "        return (0, 1)\n",
    "    if direction == (0, 1):\n",
    "        return (-1, 0)\n",
    "    if direction == (-1, 0):\n",
    "        return (0, -1)\n",
    "    \n",
    "def move_guard(x, y, direction, lab_map, patrolling):\n",
    "    next_x = x + direction[0]\n",
    "    next_y = y + direction[1]\n",
    "    if next_x < 0 or next_x >= lab_width or next_y < 0 or next_y >= lab_width:\n",
    "        patrolling = False\n",
    "    else:\n",
    "        if lab_map[next_y][next_x] == \"#\":\n",
    "            direction = rotate_guard(direction)\n",
    "        else:\n",
    "            x = next_x\n",
    "            y = next_y\n",
    "            lab_map[y][x] = \"*\"\n",
    "    return x, y, direction, lab_map, patrolling"
   ]
  },
  {
   "cell_type": "markdown",
   "metadata": {},
   "source": [
    "Move the guard and count the number of distinct positions:"
   ]
  },
  {
   "cell_type": "code",
   "execution_count": 460,
   "metadata": {},
   "outputs": [
    {
     "name": "stdout",
     "output_type": "stream",
     "text": [
      "The guard has passed through 5269 distinct positions.\n"
     ]
    }
   ],
   "source": [
    "x = starting_x\n",
    "y = starting_y\n",
    "direction = starting_direction\n",
    "patrolling = True\n",
    "while patrolling:\n",
    "    x, y, direction, lab_map, patrolling = move_guard(x, y, direction, lab_map, patrolling)\n",
    "\n",
    "distinct_positions = 0\n",
    "for line in lab_map:\n",
    "    for position in line:\n",
    "        if position == \"*\":\n",
    "            distinct_positions += 1\n",
    "print(f\"The guard has passed through {distinct_positions} distinct positions.\")"
   ]
  },
  {
   "cell_type": "markdown",
   "metadata": {},
   "source": [
    "## Part 2"
   ]
  },
  {
   "cell_type": "code",
   "execution_count": 461,
   "metadata": {},
   "outputs": [],
   "source": [
    "def divide_into_chunks(positions, n):\n",
    "    chunks = []\n",
    "    for i in range(0, len(positions), n):\n",
    "        chunks.append(positions[i:i + n])\n",
    "    return chunks"
   ]
  },
  {
   "cell_type": "markdown",
   "metadata": {},
   "source": [
    "Attempt 1, too slow:"
   ]
  },
  {
   "cell_type": "code",
   "execution_count": 462,
   "metadata": {},
   "outputs": [],
   "source": [
    "# looped_paths = 0\n",
    "# for j in range(lab_height):\n",
    "#     for i in range(lab_width):\n",
    "#         # Don't place a box on top of the guard\n",
    "#         if i == starting_x and j == starting_y:\n",
    "#             continue\n",
    "        \n",
    "#         # Reset map\n",
    "#         x = starting_x\n",
    "#         y = starting_y\n",
    "#         direction = starting_direction\n",
    "#         lab_map = [line[:] for line in starting_lab_map]\n",
    "\n",
    "#         # Add obstruction\n",
    "#         obstruction_position = (i, j)\n",
    "#         lab_map[obstruction_position[1]][obstruction_position[0]] = \"#\"\n",
    "\n",
    "#         travelled_positions = [(x, y)]\n",
    "#         patrolling = True\n",
    "#         while patrolling:\n",
    "#             x, y, direction, lab_map, patrolling = move_guard(x, y, direction, lab_map, patrolling)\n",
    "            \n",
    "#             travelled_positions.append((x, y))\n",
    "#             for i in range(1, len(travelled_positions)):\n",
    "#                 chunks = divide_into_chunks(travelled_positions[::-1], i + 1)\n",
    "#                 if len(chunks) > 1 and chunks[0] == chunks[1]:\n",
    "#                     looped_paths += 1\n",
    "#                     patrolling = False\n",
    "# print(f\"There are {looped_paths} positions where an obstacle would cause a loop.\")"
   ]
  },
  {
   "cell_type": "markdown",
   "metadata": {},
   "source": [
    "Attempt 2, it worked! At the cost of 0 elegance and it could work incorrectly in some cases."
   ]
  },
  {
   "cell_type": "code",
   "execution_count": null,
   "metadata": {},
   "outputs": [
    {
     "name": "stdout",
     "output_type": "stream",
     "text": [
      "There are 1957 positions where an obstacle would cause a loop.\n"
     ]
    }
   ],
   "source": [
    "looped_paths = 0\n",
    "for j in range(lab_height):\n",
    "    for i in range(lab_width):\n",
    "        # Don't place a box on top of the guard\n",
    "        if i == starting_x and j == starting_y:\n",
    "            continue\n",
    "        \n",
    "        # Reset map\n",
    "        x = starting_x\n",
    "        y = starting_y\n",
    "        direction = starting_direction\n",
    "        lab_map = [line[:] for line in starting_lab_map]\n",
    "\n",
    "        # Add obstruction\n",
    "        obstruction_position = (i, j)\n",
    "        lab_map[obstruction_position[1]][obstruction_position[0]] = \"#\"\n",
    "\n",
    "        travelled_positions = [(x, y)]\n",
    "        patrolling = True\n",
    "        step_count = 0\n",
    "        while patrolling:\n",
    "            x, y, direction, lab_map, patrolling = move_guard(x, y, direction, lab_map, patrolling)\n",
    "            step_count += 1\n",
    "            # Don't judge me. I know this is bad! What if there is a no-loop path longer than 10000? Fortunately there is not :)\n",
    "            if step_count > 10000:\n",
    "                looped_paths += 1\n",
    "                break\n",
    "                  \n",
    "print(f\"There are {looped_paths} positions where an obstacle would cause a loop.\")"
   ]
  }
 ],
 "metadata": {
  "kernelspec": {
   "display_name": "data_science",
   "language": "python",
   "name": "python3"
  },
  "language_info": {
   "codemirror_mode": {
    "name": "ipython",
    "version": 3
   },
   "file_extension": ".py",
   "mimetype": "text/x-python",
   "name": "python",
   "nbconvert_exporter": "python",
   "pygments_lexer": "ipython3",
   "version": "3.12.3"
  }
 },
 "nbformat": 4,
 "nbformat_minor": 2
}
